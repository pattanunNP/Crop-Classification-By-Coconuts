{
 "cells": [
  {
   "cell_type": "markdown",
   "metadata": {},
   "source": [
    "# **Crop classification by Coconuts**"
   ]
  },
  {
   "cell_type": "markdown",
   "metadata": {},
   "source": [
    "In the hackathon, we have 3 mains approach.\n",
    "\n",
    "\n",
    "1.   Relevent indexs using Classical Machine Learning\n",
    "2.   Image from each band using Deep Learning\n",
    "\n"
   ]
  },
  {
   "cell_type": "code",
   "execution_count": null,
   "metadata": {},
   "outputs": [],
   "source": [
    "import os\n",
    "import numpy as np"
   ]
  },
  {
   "cell_type": "markdown",
   "metadata": {},
   "source": [
    "From [a paper](https://ieeexplore.ieee.org/stamp/stamp.jsp?tp=&arnumber=9564343), there are 3 indexs used for crop classification whcih: NDVI, NDWI and EVI.\n",
    "\n",
    "\n",
    "1.   **NDVI**\n",
    "* NDVI = -1 to 0 represent Water bodies\n",
    "* NDVI = -0.1 to 0.1 represent Barren rocks, sand, or snow\n",
    "* NDVI = 0.2 to 0.5 represent Shrubs and grasslands or senescing crops\n",
    "* NDVI = 0.6 to 1.0 represent Dense vegetation or tropical rainforest\n",
    "2.   **NDWI**\n",
    "3.   **EVI**"
   ]
  },
  {
   "cell_type": "code",
   "execution_count": 37,
   "metadata": {},
   "outputs": [],
   "source": [
    "import mlflow\n",
    "\n",
    "mlflow.sklearn.autolog()"
   ]
  },
  {
   "cell_type": "markdown",
   "metadata": {},
   "source": [
    "# Create dataset"
   ]
  },
  {
   "cell_type": "code",
   "execution_count": 38,
   "metadata": {},
   "outputs": [],
   "source": [
    "LABELS = ['Cassava', 'Rice', 'Maize', 'Sugarcane']"
   ]
  },
  {
   "cell_type": "code",
   "execution_count": 39,
   "metadata": {},
   "outputs": [
    {
     "data": {
      "text/plain": [
       "['.DS_Store',\n",
       " 'ndvi_feature_2D_20211222.pkl',\n",
       " 'ndwi_feature_2D_20211127.pkl',\n",
       " 'ndwi_feature_2D_20211222.pkl',\n",
       " 'ndvi_feature_2D_20211127.pkl',\n",
       " 'ndvi_feature_2D_20210620.pkl',\n",
       " 'ndwi_feature_2D_20210327.pkl',\n",
       " 'ndvi_feature_2D_20210327.pkl',\n",
       " 'ndwi_feature_2D_20210620.pkl']"
      ]
     },
     "execution_count": 39,
     "metadata": {},
     "output_type": "execute_result"
    }
   ],
   "source": [
    "ROOT_DIR = os.path.abspath('../..')\n",
    "PROCESSED_DIR = os.path.join(ROOT_DIR, 'data', 'processed')\n",
    "\n",
    "data_files = os.listdir(PROCESSED_DIR)\n",
    "\n",
    "data_files"
   ]
  },
  {
   "cell_type": "code",
   "execution_count": 40,
   "metadata": {},
   "outputs": [
    {
     "data": {
      "text/plain": [
       "(1317, array(['1', '1', '1', ..., '1', '3', '3'], dtype=object))"
      ]
     },
     "execution_count": 40,
     "metadata": {},
     "output_type": "execute_result"
    }
   ],
   "source": [
    "import geopandas\n",
    "\n",
    "gorund_truth = geopandas.read_file(\n",
    "    os.path.join(ROOT_DIR, 'data', 'raw', 'training_area', 'traindata.shp')\n",
    ")\n",
    "\n",
    "labels = gorund_truth['crop_type'].values\n",
    "\n",
    "len(labels), labels"
   ]
  },
  {
   "cell_type": "code",
   "execution_count": 41,
   "metadata": {},
   "outputs": [
    {
     "name": "stdout",
     "output_type": "stream",
     "text": [
      "(1317, 6400)\n",
      "(1317, 12800)\n",
      "(1317, 19200)\n",
      "(1317, 25600)\n",
      "(1317, 32000)\n",
      "(1317, 38400)\n",
      "(1317, 44800)\n",
      "(1317, 51200)\n"
     ]
    }
   ],
   "source": [
    "data = []\n",
    "\n",
    "for idx, file in enumerate(data_files):\n",
    "    if file == '.DS_Store':\n",
    "        continue\n",
    "    sub_data = np.load(os.path.join(PROCESSED_DIR, file), allow_pickle=True)\n",
    "    if len(data) == 0:\n",
    "        data = sub_data\n",
    "    else:\n",
    "        data = np.concatenate((data, sub_data), axis=1)\n",
    "\n",
    "    print(data.shape)\n",
    "\n",
    "data = np.array(data)    "
   ]
  },
  {
   "cell_type": "markdown",
   "metadata": {},
   "source": [
    "## Train-Test Split"
   ]
  },
  {
   "cell_type": "code",
   "execution_count": 42,
   "metadata": {},
   "outputs": [
    {
     "data": {
      "text/plain": [
       "((1119, 51200), (198, 51200), (1119,), (198,))"
      ]
     },
     "execution_count": 42,
     "metadata": {},
     "output_type": "execute_result"
    }
   ],
   "source": [
    "from sklearn.model_selection import train_test_split\n",
    "\n",
    "X_train, X_test, y_train, y_test = train_test_split(data, labels, stratify=labels, test_size=0.15, random_state=42)\n",
    "\n",
    "X_train.shape, X_test.shape, y_train.shape, y_test.shape"
   ]
  },
  {
   "cell_type": "code",
   "execution_count": 43,
   "metadata": {},
   "outputs": [
    {
     "data": {
      "text/plain": [
       "(-0.8295015942272194, 0.9176470588235294, 0.0016863934053793724)"
      ]
     },
     "execution_count": 43,
     "metadata": {},
     "output_type": "execute_result"
    }
   ],
   "source": [
    "np.min(X_train), np.max(X_train), np.mean(X_train)"
   ]
  },
  {
   "cell_type": "markdown",
   "metadata": {},
   "source": [
    "# Scaler data"
   ]
  },
  {
   "cell_type": "code",
   "execution_count": 44,
   "metadata": {},
   "outputs": [],
   "source": [
    "# Minmax scaler\n",
    "from sklearn.preprocessing import MinMaxScaler, StandardScaler"
   ]
  },
  {
   "cell_type": "code",
   "execution_count": 45,
   "metadata": {},
   "outputs": [],
   "source": [
    "minmax_scaler = MinMaxScaler()\n",
    "# std_scaler = StandardScaler()\n",
    "\n",
    "minmax_scaler.fit(X_train)\n",
    "\n",
    "X_train_scale = minmax_scaler.transform(X_train)\n",
    "X_test_scale = minmax_scaler.transform(X_test)"
   ]
  },
  {
   "cell_type": "code",
   "execution_count": 46,
   "metadata": {},
   "outputs": [
    {
     "data": {
      "text/plain": [
       "(0.0, 1.0000000000000002)"
      ]
     },
     "execution_count": 46,
     "metadata": {},
     "output_type": "execute_result"
    }
   ],
   "source": [
    "np.min(X_train_scale), np.max(X_train_scale)"
   ]
  },
  {
   "cell_type": "markdown",
   "metadata": {},
   "source": [
    "# Model"
   ]
  },
  {
   "cell_type": "code",
   "execution_count": 47,
   "metadata": {},
   "outputs": [],
   "source": [
    "from sklearn.metrics import plot_confusion_matrix"
   ]
  },
  {
   "cell_type": "code",
   "execution_count": 48,
   "metadata": {},
   "outputs": [],
   "source": [
    "from sklearn.ensemble import RandomForestClassifier\n",
    "from sklearn.linear_model import LogisticRegression"
   ]
  },
  {
   "cell_type": "markdown",
   "metadata": {},
   "source": [
    "# RandomForest Classifier"
   ]
  },
  {
   "cell_type": "code",
   "execution_count": 53,
   "metadata": {},
   "outputs": [],
   "source": [
    "rf_cls = RandomForestClassifier(n_estimators=100, max_depth=10, random_state=42)\n",
    "\n",
    "with mlflow.start_run(run_name='Random Forest'):\n",
    "    rf_cls.fit(X_train_scale, y_train)\n",
    "    metrics = mlflow.sklearn.eval_and_log_metrics(rf_cls, X_test_scale, y_test, prefix=\"val_\")"
   ]
  },
  {
   "cell_type": "code",
   "execution_count": 50,
   "metadata": {},
   "outputs": [
    {
     "data": {
      "text/plain": [
       "0.601010101010101"
      ]
     },
     "execution_count": 50,
     "metadata": {},
     "output_type": "execute_result"
    }
   ],
   "source": [
    "rf_cls.score(X_test_scale, y_test)"
   ]
  },
  {
   "cell_type": "code",
   "execution_count": 51,
   "metadata": {},
   "outputs": [
    {
     "name": "stderr",
     "output_type": "stream",
     "text": [
      "/Users/namirinz/opt/anaconda3/envs/geography/lib/python3.10/site-packages/sklearn/utils/deprecation.py:87: FutureWarning: Function plot_confusion_matrix is deprecated; Function `plot_confusion_matrix` is deprecated in 1.0 and will be removed in 1.2. Use one of the class methods: ConfusionMatrixDisplay.from_predictions or ConfusionMatrixDisplay.from_estimator.\n",
      "  warnings.warn(msg, category=FutureWarning)\n"
     ]
    },
    {
     "data": {
      "image/png": "[encoded data removed]",
      "text/plain": [
       "<Figure size 432x288 with 2 Axes>"
      ]
     },
     "metadata": {
      "needs_background": "light"
     },
     "output_type": "display_data"
    }
   ],
   "source": [
    "plot_confusion_matrix(rf_cls, X_test_scale, y_test);"
   ]
  },
  {
   "cell_type": "markdown",
   "metadata": {},
   "source": [
    "# XGBoost"
   ]
  },
  {
   "cell_type": "code",
   "execution_count": 54,
   "metadata": {},
   "outputs": [],
   "source": [
    "from xgboost import XGBClassifier"
   ]
  },
  {
   "cell_type": "code",
   "execution_count": 57,
   "metadata": {},
   "outputs": [
    {
     "name": "stderr",
     "output_type": "stream",
     "text": [
      "/Users/namirinz/opt/anaconda3/envs/geography/lib/python3.10/site-packages/xgboost/sklearn.py:1224: UserWarning: The use of label encoder in XGBClassifier is deprecated and will be removed in a future release. To remove this warning, do the following: 1) Pass option use_label_encoder=False when constructing XGBClassifier object; and 2) Encode your labels (y) as integers starting with 0, i.e. 0, 1, 2, ..., [num_class - 1].\n",
      "  warnings.warn(label_encoder_deprecation_msg, UserWarning)\n"
     ]
    },
    {
     "name": "stdout",
     "output_type": "stream",
     "text": [
      "[22:29:48] WARNING: /Users/runner/miniforge3/conda-bld/xgboost-split_1645117899018/work/src/learner.cc:1115: Starting in XGBoost 1.3.0, the default evaluation metric used with the objective 'multi:softprob' was changed from 'merror' to 'mlogloss'. Explicitly set eval_metric if you'd like to restore the old behavior.\n"
     ]
    }
   ],
   "source": [
    "xgb_clf = XGBClassifier(n_estimators=100, max_depth=10, random_state=42, nthread=-1)\n",
    "\n",
    "with mlflow.start_run(run_name='XGBoost Classifier'):\n",
    "    xgb_clf.fit(X_train_scale, y_train)\n",
    "    metrics = mlflow.sklearn.eval_and_log_metrics(xgb_clf, X_test_scale, y_test, prefix=\"val_\")"
   ]
  },
  {
   "cell_type": "markdown",
   "metadata": {},
   "source": [
    "# LightGBM"
   ]
  },
  {
   "cell_type": "code",
   "execution_count": 56,
   "metadata": {},
   "outputs": [],
   "source": [
    "from lightgbm import LGBMClassifier"
   ]
  },
  {
   "cell_type": "code",
   "execution_count": null,
   "metadata": {},
   "outputs": [],
   "source": [
    "lgbm_clf = LGBMClassifier(n_estimators=100, max_depth=10, random_state=42)\n",
    "\n",
    "with mlflow.start_run(run_name='LightGBM Classifier'):\n",
    "    lgbm_clf.fit(X_train_scale, y_train)\n",
    "    metrics = mlflow.sklearn.eval_and_log_metrics(lgbm_clf, X_test_scale, y_test, prefix=\"val_\")"
   ]
  }
 ],
 "metadata": {
  "kernelspec": {
   "display_name": "Python 3.10.2 64-bit",
   "language": "python",
   "name": "python3"
  },
  "language_info": {
   "codemirror_mode": {
    "name": "ipython",
    "version": 3
   },
   "file_extension": ".py",
   "mimetype": "text/x-python",
   "name": "python",
   "nbconvert_exporter": "python",
   "pygments_lexer": "ipython3",
   "version": "3.10.2"
  },
  "orig_nbformat": 4,
  "vscode": {
   "interpreter": {
    "hash": "7a792fcb311f9eb9f3c1b942a8c87ada8484712b89b670347c16a1088e0a1f69"
   }
  }
 },
 "nbformat": 4,
 "nbformat_minor": 2
}
