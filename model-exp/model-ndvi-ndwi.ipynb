{
 "cells": [
  {
   "cell_type": "code",
   "execution_count": 1,
   "metadata": {},
   "outputs": [],
   "source": [
    "import os\n",
    "import numpy as np"
   ]
  },
  {
   "cell_type": "code",
   "execution_count": 2,
   "metadata": {},
   "outputs": [],
   "source": [
    "import mlflow\n",
    "\n",
    "mlflow.sklearn.autolog()"
   ]
  },
  {
   "cell_type": "markdown",
   "metadata": {},
   "source": [
    "# Create dataset"
   ]
  },
  {
   "cell_type": "code",
   "execution_count": 3,
   "metadata": {},
   "outputs": [],
   "source": [
    "LABELS = ['Cassava', 'Rice', 'Maize', 'Sugarcane']"
   ]
  },
  {
   "cell_type": "code",
   "execution_count": 4,
   "metadata": {},
   "outputs": [
    {
     "data": {
      "text/plain": [
       "['/Users/namirinz/git-projects/varuna-hackathon/data/processed/ndvi/ndvi_feature_2D_20211222.pkl',\n",
       " '/Users/namirinz/git-projects/varuna-hackathon/data/processed/ndvi/ndvi_feature_2D_20211127.pkl',\n",
       " '/Users/namirinz/git-projects/varuna-hackathon/data/processed/ndvi/ndvi_feature_2D_20210620.pkl',\n",
       " '/Users/namirinz/git-projects/varuna-hackathon/data/processed/ndvi/ndvi_feature_2D_20210327.pkl',\n",
       " '/Users/namirinz/git-projects/varuna-hackathon/data/processed/ndwi/ndwi_feature_2D_20211127.pkl',\n",
       " '/Users/namirinz/git-projects/varuna-hackathon/data/processed/ndwi/ndwi_feature_2D_20211222.pkl',\n",
       " '/Users/namirinz/git-projects/varuna-hackathon/data/processed/ndwi/ndwi_feature_2D_20210327.pkl',\n",
       " '/Users/namirinz/git-projects/varuna-hackathon/data/processed/ndwi/ndwi_feature_2D_20210620.pkl']"
      ]
     },
     "execution_count": 4,
     "metadata": {},
     "output_type": "execute_result"
    }
   ],
   "source": [
    "ROOT_DIR = os.path.abspath('..')\n",
    "PROCESSED_DIR = os.path.join(ROOT_DIR, 'data', 'processed')\n",
    "\n",
    "data_files = []\n",
    "\n",
    "for feature_name in ['ndvi', 'ndwi']:\n",
    "    for file in os.listdir(os.path.join(PROCESSED_DIR, feature_name)):\n",
    "        if file != '.DS_Store':\n",
    "            data_files.append('/'.join([PROCESSED_DIR, feature_name, file]))\n",
    "\n",
    "data_files"
   ]
  },
  {
   "cell_type": "code",
   "execution_count": 5,
   "metadata": {},
   "outputs": [
    {
     "name": "stderr",
     "output_type": "stream",
     "text": [
      "/Users/namirinz/opt/anaconda3/envs/geography/lib/python3.10/site-packages/geopandas/_compat.py:111: UserWarning: The Shapely GEOS version (3.10.2-CAPI-1.16.0) is incompatible with the GEOS version PyGEOS was compiled with (3.10.3-CAPI-1.16.1). Conversions between both will be slow.\n",
      "  warnings.warn(\n"
     ]
    },
    {
     "data": {
      "text/plain": [
       "(1317, array(['1', '1', '1', ..., '1', '3', '3'], dtype=object))"
      ]
     },
     "execution_count": 5,
     "metadata": {},
     "output_type": "execute_result"
    }
   ],
   "source": [
    "import geopandas\n",
    "\n",
    "gorund_truth = geopandas.read_file(\n",
    "    os.path.join(ROOT_DIR, 'data', 'raw', 'training_area', 'traindata.shp')\n",
    ")\n",
    "\n",
    "labels = gorund_truth['crop_type'].values\n",
    "\n",
    "len(labels), labels"
   ]
  },
  {
   "cell_type": "code",
   "execution_count": 6,
   "metadata": {},
   "outputs": [
    {
     "name": "stdout",
     "output_type": "stream",
     "text": [
      "(1317, 6400)\n",
      "(1317, 12800)\n",
      "(1317, 19200)\n",
      "(1317, 25600)\n",
      "(1317, 32000)\n",
      "(1317, 38400)\n",
      "(1317, 44800)\n",
      "(1317, 51200)\n"
     ]
    }
   ],
   "source": [
    "data = []\n",
    "\n",
    "for idx, file in enumerate(data_files):\n",
    "    sub_data = np.load(file, allow_pickle=True)\n",
    "    if len(data) == 0:\n",
    "        data = sub_data\n",
    "    else:\n",
    "        data = np.concatenate((data, sub_data), axis=1)\n",
    "\n",
    "    print(data.shape)\n",
    "\n",
    "data = np.array(data)    "
   ]
  },
  {
   "cell_type": "markdown",
   "metadata": {},
   "source": [
    "## Train-Test Split"
   ]
  },
  {
   "cell_type": "code",
   "execution_count": 7,
   "metadata": {},
   "outputs": [
    {
     "data": {
      "text/plain": [
       "((1119, 51200), (198, 51200), (1119,), (198,))"
      ]
     },
     "execution_count": 7,
     "metadata": {},
     "output_type": "execute_result"
    }
   ],
   "source": [
    "from sklearn.model_selection import train_test_split\n",
    "\n",
    "X_train, X_test, y_train, y_test = train_test_split(data, labels, stratify=labels, test_size=0.15, random_state=42)\n",
    "\n",
    "X_train.shape, X_test.shape, y_train.shape, y_test.shape"
   ]
  },
  {
   "cell_type": "code",
   "execution_count": 8,
   "metadata": {},
   "outputs": [
    {
     "data": {
      "text/plain": [
       "(-0.8295015942272194, 0.9176470588235294, 0.0016863934053793787)"
      ]
     },
     "execution_count": 8,
     "metadata": {},
     "output_type": "execute_result"
    }
   ],
   "source": [
    "np.min(X_train), np.max(X_train), np.mean(X_train)"
   ]
  },
  {
   "cell_type": "markdown",
   "metadata": {},
   "source": [
    "# Scaler data"
   ]
  },
  {
   "cell_type": "code",
   "execution_count": 9,
   "metadata": {},
   "outputs": [],
   "source": [
    "# Minmax scaler\n",
    "from sklearn.preprocessing import MinMaxScaler, StandardScaler"
   ]
  },
  {
   "cell_type": "code",
   "execution_count": 10,
   "metadata": {},
   "outputs": [],
   "source": [
    "minmax_scaler = MinMaxScaler()\n",
    "# std_scaler = StandardScaler()\n",
    "\n",
    "minmax_scaler.fit(X_train)\n",
    "\n",
    "X_train_scale = minmax_scaler.transform(X_train)\n",
    "X_test_scale = minmax_scaler.transform(X_test)"
   ]
  },
  {
   "cell_type": "code",
   "execution_count": 11,
   "metadata": {},
   "outputs": [
    {
     "data": {
      "text/plain": [
       "(0.0, 1.0000000000000002)"
      ]
     },
     "execution_count": 11,
     "metadata": {},
     "output_type": "execute_result"
    }
   ],
   "source": [
    "np.min(X_train_scale), np.max(X_train_scale)"
   ]
  },
  {
   "cell_type": "markdown",
   "metadata": {},
   "source": [
    "# Metrics"
   ]
  },
  {
   "cell_type": "code",
   "execution_count": 24,
   "metadata": {},
   "outputs": [],
   "source": [
    "from sklearn.metrics import accuracy_score, precision_score, recall_score, f1_score\n",
    "\n",
    "def valid_model(model, X_test, y_test):\n",
    "    y_pred = model.predict(X_test)\n",
    "    \n",
    "    print('Accuracy:', accuracy_score(y_test, y_pred))\n",
    "    print('Precision:', precision_score(y_test, y_pred, average='weighted'))\n",
    "    print('Recall:', recall_score(y_test, y_pred, average='weighted'))\n",
    "    print('F1:', f1_score(y_test, y_pred, average='weighted'))"
   ]
  },
  {
   "cell_type": "markdown",
   "metadata": {},
   "source": [
    "# Model"
   ]
  },
  {
   "cell_type": "code",
   "execution_count": 12,
   "metadata": {},
   "outputs": [],
   "source": [
    "from sklearn.metrics import plot_confusion_matrix"
   ]
  },
  {
   "cell_type": "code",
   "execution_count": 13,
   "metadata": {},
   "outputs": [],
   "source": [
    "from sklearn.ensemble import RandomForestClassifier\n",
    "from sklearn.linear_model import LogisticRegression"
   ]
  },
  {
   "cell_type": "markdown",
   "metadata": {},
   "source": [
    "# RandomForest Classifier"
   ]
  },
  {
   "cell_type": "code",
   "execution_count": 14,
   "metadata": {},
   "outputs": [
    {
     "name": "stderr",
     "output_type": "stream",
     "text": [
      "2022/06/19 22:57:49 WARNING mlflow.utils.autologging_utils: MLflow autologging encountered a warning: \"/Users/namirinz/opt/anaconda3/envs/geography/lib/python3.10/site-packages/_distutils_hack/__init__.py:30: UserWarning: Setuptools is replacing distutils.\"\n"
     ]
    }
   ],
   "source": [
    "rf_cls = RandomForestClassifier(n_estimators=100, max_depth=10, random_state=42)\n",
    "\n",
    "with mlflow.start_run(run_id=0):\n",
    "    rf_cls.fit(X_train_scale, y_train)\n",
    "    metrics = mlflow.sklearn.eval_and_log_metrics(rf_cls, X_test_scale, y_test, prefix=\"val_\")"
   ]
  },
  {
   "cell_type": "code",
   "execution_count": 26,
   "metadata": {},
   "outputs": [
    {
     "name": "stdout",
     "output_type": "stream",
     "text": [
      "Accuracy: 0.5858585858585859\n",
      "Precision: 0.5734572825717621\n",
      "Recall: 0.5858585858585859\n",
      "F1: 0.5606818291564054\n"
     ]
    }
   ],
   "source": [
    "valid_model(rf_cls, X_test_scale, y_test)"
   ]
  },
  {
   "cell_type": "code",
   "execution_count": 27,
   "metadata": {},
   "outputs": [
    {
     "name": "stderr",
     "output_type": "stream",
     "text": [
      "/Users/namirinz/opt/anaconda3/envs/geography/lib/python3.10/site-packages/sklearn/utils/deprecation.py:87: FutureWarning: Function plot_confusion_matrix is deprecated; Function `plot_confusion_matrix` is deprecated in 1.0 and will be removed in 1.2. Use one of the class methods: ConfusionMatrixDisplay.from_predictions or ConfusionMatrixDisplay.from_estimator.\n",
      "  warnings.warn(msg, category=FutureWarning)\n"
     ]
    },
    {
     "data": {
      "image/png": "[encoded data removed]",
      "text/plain": [
       "<Figure size 640x480 with 2 Axes>"
      ]
     },
     "metadata": {},
     "output_type": "display_data"
    }
   ],
   "source": [
    "plot_confusion_matrix(rf_cls, X_test_scale, y_test);"
   ]
  },
  {
   "cell_type": "markdown",
   "metadata": {},
   "source": [
    "# XGBoost"
   ]
  },
  {
   "cell_type": "code",
   "execution_count": 17,
   "metadata": {},
   "outputs": [
    {
     "name": "stderr",
     "output_type": "stream",
     "text": [
      "/Users/namirinz/opt/anaconda3/envs/geography/lib/python3.10/site-packages/xgboost/compat.py:36: FutureWarning: pandas.Int64Index is deprecated and will be removed from pandas in a future version. Use pandas.Index with the appropriate dtype instead.\n",
      "  from pandas import MultiIndex, Int64Index\n"
     ]
    }
   ],
   "source": [
    "from xgboost import XGBClassifier\n",
    "from sklearn.metrics import accuracy_score"
   ]
  },
  {
   "cell_type": "code",
   "execution_count": 18,
   "metadata": {},
   "outputs": [
    {
     "name": "stderr",
     "output_type": "stream",
     "text": [
      "/Users/namirinz/opt/anaconda3/envs/geography/lib/python3.10/site-packages/xgboost/sklearn.py:1224: UserWarning: The use of label encoder in XGBClassifier is deprecated and will be removed in a future release. To remove this warning, do the following: 1) Pass option use_label_encoder=False when constructing XGBClassifier object; and 2) Encode your labels (y) as integers starting with 0, i.e. 0, 1, 2, ..., [num_class - 1].\n",
      "  warnings.warn(label_encoder_deprecation_msg, UserWarning)\n"
     ]
    },
    {
     "name": "stdout",
     "output_type": "stream",
     "text": [
      "[22:57:52] WARNING: /Users/runner/miniforge3/conda-bld/xgboost-split_1645117899018/work/src/learner.cc:1115: Starting in XGBoost 1.3.0, the default evaluation metric used with the objective 'multi:softprob' was changed from 'merror' to 'mlogloss'. Explicitly set eval_metric if you'd like to restore the old behavior.\n",
      "[0]\tvalidation_0-mlogloss:0.98716\tvalidation_1-mlogloss:1.25217\n",
      "[1]\tvalidation_0-mlogloss:0.75539\tvalidation_1-mlogloss:1.18794\n",
      "[2]\tvalidation_0-mlogloss:0.57441\tvalidation_1-mlogloss:1.12493\n",
      "[3]\tvalidation_0-mlogloss:0.44789\tvalidation_1-mlogloss:1.07792\n",
      "[4]\tvalidation_0-mlogloss:0.34970\tvalidation_1-mlogloss:1.06490\n",
      "[5]\tvalidation_0-mlogloss:0.27702\tvalidation_1-mlogloss:1.04520\n",
      "[6]\tvalidation_0-mlogloss:0.22332\tvalidation_1-mlogloss:1.04425\n",
      "[7]\tvalidation_0-mlogloss:0.18107\tvalidation_1-mlogloss:1.04806\n",
      "[8]\tvalidation_0-mlogloss:0.14939\tvalidation_1-mlogloss:1.04841\n",
      "[9]\tvalidation_0-mlogloss:0.12431\tvalidation_1-mlogloss:1.04470\n",
      "[10]\tvalidation_0-mlogloss:0.10432\tvalidation_1-mlogloss:1.03786\n",
      "[11]\tvalidation_0-mlogloss:0.08887\tvalidation_1-mlogloss:1.05239\n",
      "[12]\tvalidation_0-mlogloss:0.07650\tvalidation_1-mlogloss:1.06064\n",
      "[13]\tvalidation_0-mlogloss:0.06653\tvalidation_1-mlogloss:1.07386\n",
      "[14]\tvalidation_0-mlogloss:0.05861\tvalidation_1-mlogloss:1.07635\n",
      "[15]\tvalidation_0-mlogloss:0.05217\tvalidation_1-mlogloss:1.08544\n",
      "[16]\tvalidation_0-mlogloss:0.04678\tvalidation_1-mlogloss:1.09017\n",
      "[17]\tvalidation_0-mlogloss:0.04228\tvalidation_1-mlogloss:1.10531\n",
      "[18]\tvalidation_0-mlogloss:0.03853\tvalidation_1-mlogloss:1.11288\n",
      "[19]\tvalidation_0-mlogloss:0.03522\tvalidation_1-mlogloss:1.11797\n",
      "[20]\tvalidation_0-mlogloss:0.03252\tvalidation_1-mlogloss:1.12809\n",
      "[21]\tvalidation_0-mlogloss:0.03017\tvalidation_1-mlogloss:1.13243\n",
      "[22]\tvalidation_0-mlogloss:0.02806\tvalidation_1-mlogloss:1.13019\n",
      "[23]\tvalidation_0-mlogloss:0.02631\tvalidation_1-mlogloss:1.13369\n",
      "[24]\tvalidation_0-mlogloss:0.02467\tvalidation_1-mlogloss:1.14525\n",
      "[25]\tvalidation_0-mlogloss:0.02314\tvalidation_1-mlogloss:1.14853\n",
      "[26]\tvalidation_0-mlogloss:0.02185\tvalidation_1-mlogloss:1.15477\n",
      "[27]\tvalidation_0-mlogloss:0.02068\tvalidation_1-mlogloss:1.15408\n",
      "[28]\tvalidation_0-mlogloss:0.01956\tvalidation_1-mlogloss:1.15810\n",
      "[29]\tvalidation_0-mlogloss:0.01864\tvalidation_1-mlogloss:1.16276\n",
      "[30]\tvalidation_0-mlogloss:0.01787\tvalidation_1-mlogloss:1.16556\n",
      "[31]\tvalidation_0-mlogloss:0.01708\tvalidation_1-mlogloss:1.16794\n",
      "[32]\tvalidation_0-mlogloss:0.01640\tvalidation_1-mlogloss:1.17310\n",
      "[33]\tvalidation_0-mlogloss:0.01579\tvalidation_1-mlogloss:1.17478\n",
      "[34]\tvalidation_0-mlogloss:0.01519\tvalidation_1-mlogloss:1.18389\n",
      "[35]\tvalidation_0-mlogloss:0.01465\tvalidation_1-mlogloss:1.19140\n",
      "[36]\tvalidation_0-mlogloss:0.01413\tvalidation_1-mlogloss:1.19456\n",
      "[37]\tvalidation_0-mlogloss:0.01363\tvalidation_1-mlogloss:1.19891\n",
      "[38]\tvalidation_0-mlogloss:0.01321\tvalidation_1-mlogloss:1.20575\n",
      "[39]\tvalidation_0-mlogloss:0.01279\tvalidation_1-mlogloss:1.20923\n",
      "[40]\tvalidation_0-mlogloss:0.01239\tvalidation_1-mlogloss:1.21398\n",
      "[41]\tvalidation_0-mlogloss:0.01204\tvalidation_1-mlogloss:1.22045\n",
      "[42]\tvalidation_0-mlogloss:0.01171\tvalidation_1-mlogloss:1.22520\n",
      "[43]\tvalidation_0-mlogloss:0.01140\tvalidation_1-mlogloss:1.22847\n",
      "[44]\tvalidation_0-mlogloss:0.01111\tvalidation_1-mlogloss:1.23391\n",
      "[45]\tvalidation_0-mlogloss:0.01085\tvalidation_1-mlogloss:1.23896\n",
      "[46]\tvalidation_0-mlogloss:0.01058\tvalidation_1-mlogloss:1.24294\n",
      "[47]\tvalidation_0-mlogloss:0.01035\tvalidation_1-mlogloss:1.24610\n",
      "[48]\tvalidation_0-mlogloss:0.01011\tvalidation_1-mlogloss:1.24957\n",
      "[49]\tvalidation_0-mlogloss:0.00989\tvalidation_1-mlogloss:1.24903\n",
      "[50]\tvalidation_0-mlogloss:0.00967\tvalidation_1-mlogloss:1.25135\n",
      "[51]\tvalidation_0-mlogloss:0.00947\tvalidation_1-mlogloss:1.25588\n",
      "[52]\tvalidation_0-mlogloss:0.00928\tvalidation_1-mlogloss:1.25895\n",
      "[53]\tvalidation_0-mlogloss:0.00911\tvalidation_1-mlogloss:1.26489\n",
      "[54]\tvalidation_0-mlogloss:0.00893\tvalidation_1-mlogloss:1.27111\n",
      "[55]\tvalidation_0-mlogloss:0.00877\tvalidation_1-mlogloss:1.27377\n",
      "[56]\tvalidation_0-mlogloss:0.00862\tvalidation_1-mlogloss:1.27500\n",
      "[57]\tvalidation_0-mlogloss:0.00848\tvalidation_1-mlogloss:1.27730\n",
      "[58]\tvalidation_0-mlogloss:0.00832\tvalidation_1-mlogloss:1.27852\n",
      "[59]\tvalidation_0-mlogloss:0.00819\tvalidation_1-mlogloss:1.28157\n",
      "[60]\tvalidation_0-mlogloss:0.00806\tvalidation_1-mlogloss:1.28076\n",
      "[61]\tvalidation_0-mlogloss:0.00792\tvalidation_1-mlogloss:1.28194\n",
      "[62]\tvalidation_0-mlogloss:0.00780\tvalidation_1-mlogloss:1.28365\n",
      "[63]\tvalidation_0-mlogloss:0.00767\tvalidation_1-mlogloss:1.28514\n",
      "[64]\tvalidation_0-mlogloss:0.00757\tvalidation_1-mlogloss:1.28688\n",
      "[65]\tvalidation_0-mlogloss:0.00745\tvalidation_1-mlogloss:1.28624\n",
      "[66]\tvalidation_0-mlogloss:0.00736\tvalidation_1-mlogloss:1.28930\n",
      "[67]\tvalidation_0-mlogloss:0.00725\tvalidation_1-mlogloss:1.29177\n",
      "[68]\tvalidation_0-mlogloss:0.00716\tvalidation_1-mlogloss:1.29287\n",
      "[69]\tvalidation_0-mlogloss:0.00707\tvalidation_1-mlogloss:1.29352\n",
      "[70]\tvalidation_0-mlogloss:0.00699\tvalidation_1-mlogloss:1.29619\n",
      "[71]\tvalidation_0-mlogloss:0.00690\tvalidation_1-mlogloss:1.29712\n",
      "[72]\tvalidation_0-mlogloss:0.00682\tvalidation_1-mlogloss:1.30130\n",
      "[73]\tvalidation_0-mlogloss:0.00673\tvalidation_1-mlogloss:1.30330\n",
      "[74]\tvalidation_0-mlogloss:0.00666\tvalidation_1-mlogloss:1.30532\n",
      "[75]\tvalidation_0-mlogloss:0.00658\tvalidation_1-mlogloss:1.30840\n",
      "[76]\tvalidation_0-mlogloss:0.00650\tvalidation_1-mlogloss:1.30948\n",
      "[77]\tvalidation_0-mlogloss:0.00644\tvalidation_1-mlogloss:1.31205\n",
      "[78]\tvalidation_0-mlogloss:0.00636\tvalidation_1-mlogloss:1.31463\n",
      "[79]\tvalidation_0-mlogloss:0.00630\tvalidation_1-mlogloss:1.31516\n",
      "[80]\tvalidation_0-mlogloss:0.00624\tvalidation_1-mlogloss:1.31624\n",
      "[81]\tvalidation_0-mlogloss:0.00618\tvalidation_1-mlogloss:1.31828\n",
      "[82]\tvalidation_0-mlogloss:0.00612\tvalidation_1-mlogloss:1.31882\n",
      "[83]\tvalidation_0-mlogloss:0.00606\tvalidation_1-mlogloss:1.32264\n",
      "[84]\tvalidation_0-mlogloss:0.00600\tvalidation_1-mlogloss:1.32352\n",
      "[85]\tvalidation_0-mlogloss:0.00595\tvalidation_1-mlogloss:1.32437\n",
      "[86]\tvalidation_0-mlogloss:0.00589\tvalidation_1-mlogloss:1.32517\n",
      "[87]\tvalidation_0-mlogloss:0.00583\tvalidation_1-mlogloss:1.32810\n",
      "[88]\tvalidation_0-mlogloss:0.00577\tvalidation_1-mlogloss:1.33108\n",
      "[89]\tvalidation_0-mlogloss:0.00572\tvalidation_1-mlogloss:1.33403\n",
      "[90]\tvalidation_0-mlogloss:0.00567\tvalidation_1-mlogloss:1.33452\n",
      "[91]\tvalidation_0-mlogloss:0.00562\tvalidation_1-mlogloss:1.33584\n",
      "[92]\tvalidation_0-mlogloss:0.00557\tvalidation_1-mlogloss:1.33646\n",
      "[93]\tvalidation_0-mlogloss:0.00552\tvalidation_1-mlogloss:1.33802\n",
      "[94]\tvalidation_0-mlogloss:0.00548\tvalidation_1-mlogloss:1.33886\n",
      "[95]\tvalidation_0-mlogloss:0.00543\tvalidation_1-mlogloss:1.33728\n",
      "[96]\tvalidation_0-mlogloss:0.00539\tvalidation_1-mlogloss:1.33924\n",
      "[97]\tvalidation_0-mlogloss:0.00533\tvalidation_1-mlogloss:1.33968\n",
      "[98]\tvalidation_0-mlogloss:0.00530\tvalidation_1-mlogloss:1.34110\n",
      "[99]\tvalidation_0-mlogloss:0.00525\tvalidation_1-mlogloss:1.34189\n"
     ]
    }
   ],
   "source": [
    "mlflow.xgboost.autolog()\n",
    "\n",
    "xgb_clf = XGBClassifier(n_estimators=100, max_depth=10, random_state=42)\n",
    "\n",
    "with mlflow.start_run(run_id=0):\n",
    "    xgb_clf.fit(\n",
    "        X_train_scale, y_train,\n",
    "        eval_set=[(X_train_scale, y_train), (X_test_scale, y_test)],\n",
    "        verbose=True,\n",
    "        )\n",
    "    mlflow.log_metric('accuracy', accuracy_score(y_test, xgb_clf.predict(X_test_scale)))"
   ]
  },
  {
   "cell_type": "code",
   "execution_count": 30,
   "metadata": {},
   "outputs": [
    {
     "name": "stdout",
     "output_type": "stream",
     "text": [
      "Accuracy: 0.6262626262626263\n",
      "Precision: 0.6214634463556877\n",
      "Recall: 0.6262626262626263\n",
      "F1: 0.6170514936883829\n"
     ]
    }
   ],
   "source": [
    "valid_model(xgb_clf, X_test_scale, y_test)"
   ]
  },
  {
   "cell_type": "code",
   "execution_count": 31,
   "metadata": {},
   "outputs": [
    {
     "name": "stderr",
     "output_type": "stream",
     "text": [
      "/Users/namirinz/opt/anaconda3/envs/geography/lib/python3.10/site-packages/sklearn/utils/deprecation.py:87: FutureWarning: Function plot_confusion_matrix is deprecated; Function `plot_confusion_matrix` is deprecated in 1.0 and will be removed in 1.2. Use one of the class methods: ConfusionMatrixDisplay.from_predictions or ConfusionMatrixDisplay.from_estimator.\n",
      "  warnings.warn(msg, category=FutureWarning)\n"
     ]
    },
    {
     "data": {
      "image/png": "[encoded data removed]",
      "text/plain": [
       "<Figure size 640x480 with 2 Axes>"
      ]
     },
     "metadata": {},
     "output_type": "display_data"
    }
   ],
   "source": [
    "plot_confusion_matrix(xgb_clf, X_test_scale, y_test);"
   ]
  },
  {
   "cell_type": "markdown",
   "metadata": {},
   "source": [
    "# LightGBM"
   ]
  },
  {
   "cell_type": "code",
   "execution_count": 20,
   "metadata": {},
   "outputs": [],
   "source": [
    "from lightgbm import LGBMClassifier"
   ]
  },
  {
   "cell_type": "code",
   "execution_count": 21,
   "metadata": {},
   "outputs": [
    {
     "name": "stderr",
     "output_type": "stream",
     "text": [
      "/Users/namirinz/opt/anaconda3/envs/geography/lib/python3.10/site-packages/lightgbm/sklearn.py:736: UserWarning: 'verbose' argument is deprecated and will be removed in a future release of LightGBM. Pass 'log_evaluation()' callback via 'callbacks' argument instead.\n",
      "  _log_warning(\"'verbose' argument is deprecated and will be removed in a future release of LightGBM. \"\n"
     ]
    },
    {
     "name": "stdout",
     "output_type": "stream",
     "text": [
      "[1]\ttraining's multi_logloss: 1.13479\tvalid_1's multi_logloss: 1.21658\n",
      "[2]\ttraining's multi_logloss: 1.02272\tvalid_1's multi_logloss: 1.18631\n",
      "[3]\ttraining's multi_logloss: 0.927305\tvalid_1's multi_logloss: 1.14837\n",
      "[4]\ttraining's multi_logloss: 0.842335\tvalid_1's multi_logloss: 1.11679\n",
      "[5]\ttraining's multi_logloss: 0.768983\tvalid_1's multi_logloss: 1.0938\n",
      "[6]\ttraining's multi_logloss: 0.702827\tvalid_1's multi_logloss: 1.08519\n",
      "[7]\ttraining's multi_logloss: 0.647218\tvalid_1's multi_logloss: 1.07121\n",
      "[8]\ttraining's multi_logloss: 0.594794\tvalid_1's multi_logloss: 1.06237\n",
      "[9]\ttraining's multi_logloss: 0.546661\tvalid_1's multi_logloss: 1.05739\n",
      "[10]\ttraining's multi_logloss: 0.503598\tvalid_1's multi_logloss: 1.05199\n",
      "[11]\ttraining's multi_logloss: 0.464153\tvalid_1's multi_logloss: 1.04388\n",
      "[12]\ttraining's multi_logloss: 0.427349\tvalid_1's multi_logloss: 1.03163\n",
      "[13]\ttraining's multi_logloss: 0.393737\tvalid_1's multi_logloss: 1.02852\n",
      "[14]\ttraining's multi_logloss: 0.363583\tvalid_1's multi_logloss: 1.03224\n",
      "[15]\ttraining's multi_logloss: 0.334901\tvalid_1's multi_logloss: 1.03233\n",
      "[16]\ttraining's multi_logloss: 0.30935\tvalid_1's multi_logloss: 1.0344\n",
      "[17]\ttraining's multi_logloss: 0.286159\tvalid_1's multi_logloss: 1.02562\n",
      "[18]\ttraining's multi_logloss: 0.266627\tvalid_1's multi_logloss: 1.02578\n",
      "[19]\ttraining's multi_logloss: 0.246824\tvalid_1's multi_logloss: 1.0238\n",
      "[20]\ttraining's multi_logloss: 0.228415\tvalid_1's multi_logloss: 1.02782\n",
      "[21]\ttraining's multi_logloss: 0.212301\tvalid_1's multi_logloss: 1.02956\n",
      "[22]\ttraining's multi_logloss: 0.197008\tvalid_1's multi_logloss: 1.02907\n",
      "[23]\ttraining's multi_logloss: 0.183023\tvalid_1's multi_logloss: 1.03308\n",
      "[24]\ttraining's multi_logloss: 0.169833\tvalid_1's multi_logloss: 1.03754\n",
      "[25]\ttraining's multi_logloss: 0.16007\tvalid_1's multi_logloss: 1.04016\n",
      "[26]\ttraining's multi_logloss: 0.149003\tvalid_1's multi_logloss: 1.04293\n",
      "[27]\ttraining's multi_logloss: 0.139652\tvalid_1's multi_logloss: 1.04507\n",
      "[28]\ttraining's multi_logloss: 0.129668\tvalid_1's multi_logloss: 1.0446\n",
      "[29]\ttraining's multi_logloss: 0.121723\tvalid_1's multi_logloss: 1.05179\n",
      "[30]\ttraining's multi_logloss: 0.113643\tvalid_1's multi_logloss: 1.06037\n",
      "[31]\ttraining's multi_logloss: 0.107261\tvalid_1's multi_logloss: 1.06172\n",
      "[32]\ttraining's multi_logloss: 0.101266\tvalid_1's multi_logloss: 1.06198\n",
      "[33]\ttraining's multi_logloss: 0.094437\tvalid_1's multi_logloss: 1.06466\n",
      "[34]\ttraining's multi_logloss: 0.0883625\tvalid_1's multi_logloss: 1.06316\n",
      "[35]\ttraining's multi_logloss: 0.0823387\tvalid_1's multi_logloss: 1.071\n",
      "[36]\ttraining's multi_logloss: 0.077273\tvalid_1's multi_logloss: 1.07822\n",
      "[37]\ttraining's multi_logloss: 0.0732141\tvalid_1's multi_logloss: 1.08184\n",
      "[38]\ttraining's multi_logloss: 0.0682067\tvalid_1's multi_logloss: 1.08835\n",
      "[39]\ttraining's multi_logloss: 0.0641773\tvalid_1's multi_logloss: 1.08955\n",
      "[40]\ttraining's multi_logloss: 0.0599993\tvalid_1's multi_logloss: 1.09457\n",
      "[41]\ttraining's multi_logloss: 0.0565636\tvalid_1's multi_logloss: 1.10085\n",
      "[42]\ttraining's multi_logloss: 0.0527992\tvalid_1's multi_logloss: 1.10967\n",
      "[43]\ttraining's multi_logloss: 0.0498123\tvalid_1's multi_logloss: 1.11263\n",
      "[44]\ttraining's multi_logloss: 0.0465195\tvalid_1's multi_logloss: 1.11864\n",
      "[45]\ttraining's multi_logloss: 0.0434494\tvalid_1's multi_logloss: 1.1263\n",
      "[46]\ttraining's multi_logloss: 0.041113\tvalid_1's multi_logloss: 1.13019\n",
      "[47]\ttraining's multi_logloss: 0.0384519\tvalid_1's multi_logloss: 1.13821\n",
      "[48]\ttraining's multi_logloss: 0.0359306\tvalid_1's multi_logloss: 1.14546\n",
      "[49]\ttraining's multi_logloss: 0.0334861\tvalid_1's multi_logloss: 1.14969\n",
      "[50]\ttraining's multi_logloss: 0.0316165\tvalid_1's multi_logloss: 1.15609\n",
      "[51]\ttraining's multi_logloss: 0.0293063\tvalid_1's multi_logloss: 1.16346\n",
      "[52]\ttraining's multi_logloss: 0.0275989\tvalid_1's multi_logloss: 1.16795\n",
      "[53]\ttraining's multi_logloss: 0.0257595\tvalid_1's multi_logloss: 1.17619\n",
      "[54]\ttraining's multi_logloss: 0.0241046\tvalid_1's multi_logloss: 1.1814\n",
      "[55]\ttraining's multi_logloss: 0.0226858\tvalid_1's multi_logloss: 1.19026\n",
      "[56]\ttraining's multi_logloss: 0.0211405\tvalid_1's multi_logloss: 1.19671\n",
      "[57]\ttraining's multi_logloss: 0.019969\tvalid_1's multi_logloss: 1.20238\n",
      "[58]\ttraining's multi_logloss: 0.0187286\tvalid_1's multi_logloss: 1.21064\n",
      "[59]\ttraining's multi_logloss: 0.0177085\tvalid_1's multi_logloss: 1.22076\n",
      "[60]\ttraining's multi_logloss: 0.0164659\tvalid_1's multi_logloss: 1.2244\n",
      "[61]\ttraining's multi_logloss: 0.0153317\tvalid_1's multi_logloss: 1.22936\n",
      "[62]\ttraining's multi_logloss: 0.0143007\tvalid_1's multi_logloss: 1.23956\n",
      "[63]\ttraining's multi_logloss: 0.0133098\tvalid_1's multi_logloss: 1.2519\n",
      "[64]\ttraining's multi_logloss: 0.0124249\tvalid_1's multi_logloss: 1.26247\n",
      "[65]\ttraining's multi_logloss: 0.0117546\tvalid_1's multi_logloss: 1.27005\n",
      "[66]\ttraining's multi_logloss: 0.0110608\tvalid_1's multi_logloss: 1.27539\n",
      "[67]\ttraining's multi_logloss: 0.0102977\tvalid_1's multi_logloss: 1.28275\n",
      "[68]\ttraining's multi_logloss: 0.00963632\tvalid_1's multi_logloss: 1.28632\n",
      "[69]\ttraining's multi_logloss: 0.00904385\tvalid_1's multi_logloss: 1.29705\n",
      "[70]\ttraining's multi_logloss: 0.00849356\tvalid_1's multi_logloss: 1.30642\n",
      "[71]\ttraining's multi_logloss: 0.0079962\tvalid_1's multi_logloss: 1.31006\n",
      "[72]\ttraining's multi_logloss: 0.00746922\tvalid_1's multi_logloss: 1.32319\n",
      "[73]\ttraining's multi_logloss: 0.00709551\tvalid_1's multi_logloss: 1.33223\n",
      "[74]\ttraining's multi_logloss: 0.00666966\tvalid_1's multi_logloss: 1.34166\n",
      "[75]\ttraining's multi_logloss: 0.00619442\tvalid_1's multi_logloss: 1.351\n",
      "[76]\ttraining's multi_logloss: 0.00582335\tvalid_1's multi_logloss: 1.35718\n",
      "[77]\ttraining's multi_logloss: 0.00541718\tvalid_1's multi_logloss: 1.36532\n",
      "[78]\ttraining's multi_logloss: 0.00504888\tvalid_1's multi_logloss: 1.37832\n",
      "[79]\ttraining's multi_logloss: 0.00472457\tvalid_1's multi_logloss: 1.38806\n",
      "[80]\ttraining's multi_logloss: 0.00442747\tvalid_1's multi_logloss: 1.3949\n",
      "[81]\ttraining's multi_logloss: 0.00416485\tvalid_1's multi_logloss: 1.4022\n",
      "[82]\ttraining's multi_logloss: 0.00389714\tvalid_1's multi_logloss: 1.41841\n",
      "[83]\ttraining's multi_logloss: 0.00367214\tvalid_1's multi_logloss: 1.42342\n",
      "[84]\ttraining's multi_logloss: 0.00343459\tvalid_1's multi_logloss: 1.43237\n",
      "[85]\ttraining's multi_logloss: 0.00321312\tvalid_1's multi_logloss: 1.44254\n",
      "[86]\ttraining's multi_logloss: 0.00300288\tvalid_1's multi_logloss: 1.44899\n",
      "[87]\ttraining's multi_logloss: 0.00282694\tvalid_1's multi_logloss: 1.45355\n",
      "[88]\ttraining's multi_logloss: 0.00265653\tvalid_1's multi_logloss: 1.45936\n",
      "[89]\ttraining's multi_logloss: 0.00250662\tvalid_1's multi_logloss: 1.47152\n",
      "[90]\ttraining's multi_logloss: 0.00234354\tvalid_1's multi_logloss: 1.4842\n",
      "[91]\ttraining's multi_logloss: 0.00219735\tvalid_1's multi_logloss: 1.49284\n",
      "[92]\ttraining's multi_logloss: 0.00204675\tvalid_1's multi_logloss: 1.50152\n",
      "[93]\ttraining's multi_logloss: 0.00191962\tvalid_1's multi_logloss: 1.50784\n",
      "[94]\ttraining's multi_logloss: 0.00177897\tvalid_1's multi_logloss: 1.5201\n",
      "[95]\ttraining's multi_logloss: 0.00167606\tvalid_1's multi_logloss: 1.52449\n",
      "[96]\ttraining's multi_logloss: 0.00157219\tvalid_1's multi_logloss: 1.53422\n",
      "[97]\ttraining's multi_logloss: 0.00146303\tvalid_1's multi_logloss: 1.54169\n",
      "[98]\ttraining's multi_logloss: 0.00135805\tvalid_1's multi_logloss: 1.55272\n",
      "[99]\ttraining's multi_logloss: 0.00126485\tvalid_1's multi_logloss: 1.5582\n",
      "[100]\ttraining's multi_logloss: 0.00119292\tvalid_1's multi_logloss: 1.56445\n"
     ]
    },
    {
     "name": "stderr",
     "output_type": "stream",
     "text": [
      "2022/06/19 23:00:18 ERROR mlflow.lightgbm: Failed to log feature importance plot. LightGBM autologging will ignore the failure and continue. Exception: \n",
      "Traceback (most recent call last):\n",
      "  File \"/Users/namirinz/opt/anaconda3/envs/geography/lib/python3.10/site-packages/mlflow/lightgbm.py\", line 610, in train\n",
      "    log_feature_importance_plot(features, importance, imp_type)\n",
      "  File \"/Users/namirinz/opt/anaconda3/envs/geography/lib/python3.10/site-packages/mlflow/lightgbm.py\", line 518, in log_feature_importance_plot\n",
      "    fig.tight_layout()\n",
      "  File \"/Users/namirinz/opt/anaconda3/envs/geography/lib/python3.10/site-packages/matplotlib/figure.py\", line 3222, in tight_layout\n",
      "    renderer = get_renderer(self)\n",
      "  File \"/Users/namirinz/opt/anaconda3/envs/geography/lib/python3.10/site-packages/matplotlib/tight_layout.py\", line 211, in get_renderer\n",
      "    return canvas.get_renderer()\n",
      "  File \"/Users/namirinz/opt/anaconda3/envs/geography/lib/python3.10/site-packages/matplotlib/backends/backend_agg.py\", line 447, in get_renderer\n",
      "    self.renderer = RendererAgg(w, h, self.figure.dpi)\n",
      "  File \"/Users/namirinz/opt/anaconda3/envs/geography/lib/python3.10/site-packages/matplotlib/backends/backend_agg.py\", line 93, in __init__\n",
      "    self._renderer = _RendererAgg(int(width), int(height), dpi)\n",
      "ValueError: Image size of 640x512480 pixels is too large. It must be less than 2^16 in each direction.\n",
      "2022/06/19 23:00:51 ERROR mlflow.lightgbm: Failed to log feature importance plot. LightGBM autologging will ignore the failure and continue. Exception: \n",
      "Traceback (most recent call last):\n",
      "  File \"/Users/namirinz/opt/anaconda3/envs/geography/lib/python3.10/site-packages/mlflow/lightgbm.py\", line 610, in train\n",
      "    log_feature_importance_plot(features, importance, imp_type)\n",
      "  File \"/Users/namirinz/opt/anaconda3/envs/geography/lib/python3.10/site-packages/mlflow/lightgbm.py\", line 518, in log_feature_importance_plot\n",
      "    fig.tight_layout()\n",
      "  File \"/Users/namirinz/opt/anaconda3/envs/geography/lib/python3.10/site-packages/matplotlib/figure.py\", line 3222, in tight_layout\n",
      "    renderer = get_renderer(self)\n",
      "  File \"/Users/namirinz/opt/anaconda3/envs/geography/lib/python3.10/site-packages/matplotlib/tight_layout.py\", line 211, in get_renderer\n",
      "    return canvas.get_renderer()\n",
      "  File \"/Users/namirinz/opt/anaconda3/envs/geography/lib/python3.10/site-packages/matplotlib/backends/backend_agg.py\", line 447, in get_renderer\n",
      "    self.renderer = RendererAgg(w, h, self.figure.dpi)\n",
      "  File \"/Users/namirinz/opt/anaconda3/envs/geography/lib/python3.10/site-packages/matplotlib/backends/backend_agg.py\", line 93, in __init__\n",
      "    self._renderer = _RendererAgg(int(width), int(height), dpi)\n",
      "ValueError: Image size of 640x512480 pixels is too large. It must be less than 2^16 in each direction.\n"
     ]
    },
    {
     "ename": "ValueError",
     "evalue": "Image size of 640x512480 pixels is too large. It must be less than 2^16 in each direction.",
     "output_type": "error",
     "traceback": [
      "\u001b[0;31m---------------------------------------------------------------------------\u001b[0m",
      "\u001b[0;31mValueError\u001b[0m                                Traceback (most recent call last)",
      "File \u001b[0;32m~/opt/anaconda3/envs/geography/lib/python3.10/site-packages/IPython/core/formatters.py:339\u001b[0m, in \u001b[0;36mBaseFormatter.__call__\u001b[0;34m(self, obj)\u001b[0m\n\u001b[1;32m    337\u001b[0m     \u001b[39mpass\u001b[39;00m\n\u001b[1;32m    338\u001b[0m \u001b[39melse\u001b[39;00m:\n\u001b[0;32m--> 339\u001b[0m     \u001b[39mreturn\u001b[39;00m printer(obj)\n\u001b[1;32m    340\u001b[0m \u001b[39m# Finally look for special method names\u001b[39;00m\n\u001b[1;32m    341\u001b[0m method \u001b[39m=\u001b[39m get_real_method(obj, \u001b[39mself\u001b[39m\u001b[39m.\u001b[39mprint_method)\n",
      "File \u001b[0;32m~/opt/anaconda3/envs/geography/lib/python3.10/site-packages/IPython/core/pylabtools.py:151\u001b[0m, in \u001b[0;36mprint_figure\u001b[0;34m(fig, fmt, bbox_inches, base64, **kwargs)\u001b[0m\n\u001b[1;32m    148\u001b[0m     \u001b[39mfrom\u001b[39;00m \u001b[39mmatplotlib\u001b[39;00m\u001b[39m.\u001b[39;00m\u001b[39mbackend_bases\u001b[39;00m \u001b[39mimport\u001b[39;00m FigureCanvasBase\n\u001b[1;32m    149\u001b[0m     FigureCanvasBase(fig)\n\u001b[0;32m--> 151\u001b[0m fig\u001b[39m.\u001b[39;49mcanvas\u001b[39m.\u001b[39;49mprint_figure(bytes_io, \u001b[39m*\u001b[39;49m\u001b[39m*\u001b[39;49mkw)\n\u001b[1;32m    152\u001b[0m data \u001b[39m=\u001b[39m bytes_io\u001b[39m.\u001b[39mgetvalue()\n\u001b[1;32m    153\u001b[0m \u001b[39mif\u001b[39;00m fmt \u001b[39m==\u001b[39m \u001b[39m'\u001b[39m\u001b[39msvg\u001b[39m\u001b[39m'\u001b[39m:\n",
      "File \u001b[0;32m~/opt/anaconda3/envs/geography/lib/python3.10/site-packages/matplotlib/backend_bases.py:2289\u001b[0m, in \u001b[0;36mFigureCanvasBase.print_figure\u001b[0;34m(self, filename, dpi, facecolor, edgecolor, orientation, format, bbox_inches, pad_inches, bbox_extra_artists, backend, **kwargs)\u001b[0m\n\u001b[1;32m   2282\u001b[0m     bbox_inches \u001b[39m=\u001b[39m rcParams[\u001b[39m'\u001b[39m\u001b[39msavefig.bbox\u001b[39m\u001b[39m'\u001b[39m]\n\u001b[1;32m   2284\u001b[0m \u001b[39mif\u001b[39;00m (\u001b[39mself\u001b[39m\u001b[39m.\u001b[39mfigure\u001b[39m.\u001b[39mget_constrained_layout() \u001b[39mor\u001b[39;00m\n\u001b[1;32m   2285\u001b[0m         bbox_inches \u001b[39m==\u001b[39m \u001b[39m\"\u001b[39m\u001b[39mtight\u001b[39m\u001b[39m\"\u001b[39m):\n\u001b[1;32m   2286\u001b[0m     \u001b[39m# we need to trigger a draw before printing to make sure\u001b[39;00m\n\u001b[1;32m   2287\u001b[0m     \u001b[39m# CL works.  \"tight\" also needs a draw to get the right\u001b[39;00m\n\u001b[1;32m   2288\u001b[0m     \u001b[39m# locations:\u001b[39;00m\n\u001b[0;32m-> 2289\u001b[0m     renderer \u001b[39m=\u001b[39m _get_renderer(\n\u001b[1;32m   2290\u001b[0m         \u001b[39mself\u001b[39;49m\u001b[39m.\u001b[39;49mfigure,\n\u001b[1;32m   2291\u001b[0m         functools\u001b[39m.\u001b[39;49mpartial(\n\u001b[1;32m   2292\u001b[0m             print_method, orientation\u001b[39m=\u001b[39;49morientation)\n\u001b[1;32m   2293\u001b[0m     )\n\u001b[1;32m   2294\u001b[0m     \u001b[39mwith\u001b[39;00m \u001b[39mgetattr\u001b[39m(renderer, \u001b[39m\"\u001b[39m\u001b[39m_draw_disabled\u001b[39m\u001b[39m\"\u001b[39m, nullcontext)():\n\u001b[1;32m   2295\u001b[0m         \u001b[39mself\u001b[39m\u001b[39m.\u001b[39mfigure\u001b[39m.\u001b[39mdraw(renderer)\n",
      "File \u001b[0;32m~/opt/anaconda3/envs/geography/lib/python3.10/site-packages/matplotlib/backend_bases.py:1544\u001b[0m, in \u001b[0;36m_get_renderer\u001b[0;34m(figure, print_method)\u001b[0m\n\u001b[1;32m   1541\u001b[0m     print_method \u001b[39m=\u001b[39m \u001b[39mgetattr\u001b[39m(\n\u001b[1;32m   1542\u001b[0m         figure\u001b[39m.\u001b[39mcanvas\u001b[39m.\u001b[39m_get_output_canvas(\u001b[39mNone\u001b[39;00m, fmt), \u001b[39mf\u001b[39m\u001b[39m\"\u001b[39m\u001b[39mprint_\u001b[39m\u001b[39m{\u001b[39;00mfmt\u001b[39m}\u001b[39;00m\u001b[39m\"\u001b[39m)\n\u001b[1;32m   1543\u001b[0m \u001b[39mtry\u001b[39;00m:\n\u001b[0;32m-> 1544\u001b[0m     print_method(io\u001b[39m.\u001b[39;49mBytesIO())\n\u001b[1;32m   1545\u001b[0m \u001b[39mexcept\u001b[39;00m Done \u001b[39mas\u001b[39;00m exc:\n\u001b[1;32m   1546\u001b[0m     renderer, \u001b[39m=\u001b[39m figure\u001b[39m.\u001b[39m_cachedRenderer, \u001b[39m=\u001b[39m exc\u001b[39m.\u001b[39margs\n",
      "File \u001b[0;32m~/opt/anaconda3/envs/geography/lib/python3.10/site-packages/matplotlib/backend_bases.py:1648\u001b[0m, in \u001b[0;36m_check_savefig_extra_args.<locals>.wrapper\u001b[0;34m(*args, **kwargs)\u001b[0m\n\u001b[1;32m   1640\u001b[0m     _api\u001b[39m.\u001b[39mwarn_deprecated(\n\u001b[1;32m   1641\u001b[0m         \u001b[39m'\u001b[39m\u001b[39m3.3\u001b[39m\u001b[39m'\u001b[39m, name\u001b[39m=\u001b[39mname, removal\u001b[39m=\u001b[39m\u001b[39m'\u001b[39m\u001b[39m3.6\u001b[39m\u001b[39m'\u001b[39m,\n\u001b[1;32m   1642\u001b[0m         message\u001b[39m=\u001b[39m\u001b[39m'\u001b[39m\u001b[39m%(name)s\u001b[39;00m\u001b[39m() got unexpected keyword argument \u001b[39m\u001b[39m\"\u001b[39m\u001b[39m'\u001b[39m\n\u001b[1;32m   1643\u001b[0m                 \u001b[39m+\u001b[39m arg \u001b[39m+\u001b[39m \u001b[39m'\u001b[39m\u001b[39m\"\u001b[39m\u001b[39m which is no longer supported as of \u001b[39m\u001b[39m'\u001b[39m\n\u001b[1;32m   1644\u001b[0m                 \u001b[39m'\u001b[39m\u001b[39m%(since)s\u001b[39;00m\u001b[39m and will become an error \u001b[39m\u001b[39m'\u001b[39m\n\u001b[1;32m   1645\u001b[0m                 \u001b[39m'\u001b[39m\u001b[39m%(removal)s\u001b[39;00m\u001b[39m'\u001b[39m)\n\u001b[1;32m   1646\u001b[0m     kwargs\u001b[39m.\u001b[39mpop(arg)\n\u001b[0;32m-> 1648\u001b[0m \u001b[39mreturn\u001b[39;00m func(\u001b[39m*\u001b[39;49margs, \u001b[39m*\u001b[39;49m\u001b[39m*\u001b[39;49mkwargs)\n",
      "File \u001b[0;32m~/opt/anaconda3/envs/geography/lib/python3.10/site-packages/matplotlib/_api/deprecation.py:415\u001b[0m, in \u001b[0;36mdelete_parameter.<locals>.wrapper\u001b[0;34m(*inner_args, **inner_kwargs)\u001b[0m\n\u001b[1;32m    405\u001b[0m     deprecation_addendum \u001b[39m=\u001b[39m (\n\u001b[1;32m    406\u001b[0m         \u001b[39mf\u001b[39m\u001b[39m\"\u001b[39m\u001b[39mIf any parameter follows \u001b[39m\u001b[39m{\u001b[39;00mname\u001b[39m!r}\u001b[39;00m\u001b[39m, they should be passed as \u001b[39m\u001b[39m\"\u001b[39m\n\u001b[1;32m    407\u001b[0m         \u001b[39mf\u001b[39m\u001b[39m\"\u001b[39m\u001b[39mkeyword, not positionally.\u001b[39m\u001b[39m\"\u001b[39m)\n\u001b[1;32m    408\u001b[0m     warn_deprecated(\n\u001b[1;32m    409\u001b[0m         since,\n\u001b[1;32m    410\u001b[0m         name\u001b[39m=\u001b[39m\u001b[39mrepr\u001b[39m(name),\n\u001b[0;32m   (...)\u001b[0m\n\u001b[1;32m    413\u001b[0m                  \u001b[39melse\u001b[39;00m deprecation_addendum,\n\u001b[1;32m    414\u001b[0m         \u001b[39m*\u001b[39m\u001b[39m*\u001b[39mkwargs)\n\u001b[0;32m--> 415\u001b[0m \u001b[39mreturn\u001b[39;00m func(\u001b[39m*\u001b[39;49minner_args, \u001b[39m*\u001b[39;49m\u001b[39m*\u001b[39;49minner_kwargs)\n",
      "File \u001b[0;32m~/opt/anaconda3/envs/geography/lib/python3.10/site-packages/matplotlib/backends/backend_agg.py:540\u001b[0m, in \u001b[0;36mFigureCanvasAgg.print_png\u001b[0;34m(self, filename_or_obj, metadata, pil_kwargs, *args)\u001b[0m\n\u001b[1;32m    490\u001b[0m \u001b[39m@_check_savefig_extra_args\u001b[39m\n\u001b[1;32m    491\u001b[0m \u001b[39m@_api\u001b[39m\u001b[39m.\u001b[39mdelete_parameter(\u001b[39m\"\u001b[39m\u001b[39m3.5\u001b[39m\u001b[39m\"\u001b[39m, \u001b[39m\"\u001b[39m\u001b[39margs\u001b[39m\u001b[39m\"\u001b[39m)\n\u001b[1;32m    492\u001b[0m \u001b[39mdef\u001b[39;00m \u001b[39mprint_png\u001b[39m(\u001b[39mself\u001b[39m, filename_or_obj, \u001b[39m*\u001b[39margs,\n\u001b[1;32m    493\u001b[0m               metadata\u001b[39m=\u001b[39m\u001b[39mNone\u001b[39;00m, pil_kwargs\u001b[39m=\u001b[39m\u001b[39mNone\u001b[39;00m):\n\u001b[1;32m    494\u001b[0m     \u001b[39m\"\"\"\u001b[39;00m\n\u001b[1;32m    495\u001b[0m \u001b[39m    Write the figure to a PNG file.\u001b[39;00m\n\u001b[1;32m    496\u001b[0m \n\u001b[0;32m   (...)\u001b[0m\n\u001b[1;32m    538\u001b[0m \u001b[39m        *metadata*, including the default 'Software' key.\u001b[39;00m\n\u001b[1;32m    539\u001b[0m \u001b[39m    \"\"\"\u001b[39;00m\n\u001b[0;32m--> 540\u001b[0m     FigureCanvasAgg\u001b[39m.\u001b[39;49mdraw(\u001b[39mself\u001b[39;49m)\n\u001b[1;32m    541\u001b[0m     mpl\u001b[39m.\u001b[39mimage\u001b[39m.\u001b[39mimsave(\n\u001b[1;32m    542\u001b[0m         filename_or_obj, \u001b[39mself\u001b[39m\u001b[39m.\u001b[39mbuffer_rgba(), \u001b[39mformat\u001b[39m\u001b[39m=\u001b[39m\u001b[39m\"\u001b[39m\u001b[39mpng\u001b[39m\u001b[39m\"\u001b[39m, origin\u001b[39m=\u001b[39m\u001b[39m\"\u001b[39m\u001b[39mupper\u001b[39m\u001b[39m\"\u001b[39m,\n\u001b[1;32m    543\u001b[0m         dpi\u001b[39m=\u001b[39m\u001b[39mself\u001b[39m\u001b[39m.\u001b[39mfigure\u001b[39m.\u001b[39mdpi, metadata\u001b[39m=\u001b[39mmetadata, pil_kwargs\u001b[39m=\u001b[39mpil_kwargs)\n",
      "File \u001b[0;32m~/opt/anaconda3/envs/geography/lib/python3.10/site-packages/matplotlib/backends/backend_agg.py:431\u001b[0m, in \u001b[0;36mFigureCanvasAgg.draw\u001b[0;34m(self)\u001b[0m\n\u001b[1;32m    429\u001b[0m \u001b[39mdef\u001b[39;00m \u001b[39mdraw\u001b[39m(\u001b[39mself\u001b[39m):\n\u001b[1;32m    430\u001b[0m     \u001b[39m# docstring inherited\u001b[39;00m\n\u001b[0;32m--> 431\u001b[0m     \u001b[39mself\u001b[39m\u001b[39m.\u001b[39mrenderer \u001b[39m=\u001b[39m \u001b[39mself\u001b[39;49m\u001b[39m.\u001b[39;49mget_renderer(cleared\u001b[39m=\u001b[39;49m\u001b[39mTrue\u001b[39;49;00m)\n\u001b[1;32m    432\u001b[0m     \u001b[39m# Acquire a lock on the shared font cache.\u001b[39;00m\n\u001b[1;32m    433\u001b[0m     \u001b[39mwith\u001b[39;00m RendererAgg\u001b[39m.\u001b[39mlock, \\\n\u001b[1;32m    434\u001b[0m          (\u001b[39mself\u001b[39m\u001b[39m.\u001b[39mtoolbar\u001b[39m.\u001b[39m_wait_cursor_for_draw_cm() \u001b[39mif\u001b[39;00m \u001b[39mself\u001b[39m\u001b[39m.\u001b[39mtoolbar\n\u001b[1;32m    435\u001b[0m           \u001b[39melse\u001b[39;00m nullcontext()):\n",
      "File \u001b[0;32m~/opt/anaconda3/envs/geography/lib/python3.10/site-packages/matplotlib/backends/backend_agg.py:447\u001b[0m, in \u001b[0;36mFigureCanvasAgg.get_renderer\u001b[0;34m(self, cleared)\u001b[0m\n\u001b[1;32m    444\u001b[0m reuse_renderer \u001b[39m=\u001b[39m (\u001b[39mhasattr\u001b[39m(\u001b[39mself\u001b[39m, \u001b[39m\"\u001b[39m\u001b[39mrenderer\u001b[39m\u001b[39m\"\u001b[39m)\n\u001b[1;32m    445\u001b[0m                   \u001b[39mand\u001b[39;00m \u001b[39mgetattr\u001b[39m(\u001b[39mself\u001b[39m, \u001b[39m\"\u001b[39m\u001b[39m_lastKey\u001b[39m\u001b[39m\"\u001b[39m, \u001b[39mNone\u001b[39;00m) \u001b[39m==\u001b[39m key)\n\u001b[1;32m    446\u001b[0m \u001b[39mif\u001b[39;00m \u001b[39mnot\u001b[39;00m reuse_renderer:\n\u001b[0;32m--> 447\u001b[0m     \u001b[39mself\u001b[39m\u001b[39m.\u001b[39mrenderer \u001b[39m=\u001b[39m RendererAgg(w, h, \u001b[39mself\u001b[39;49m\u001b[39m.\u001b[39;49mfigure\u001b[39m.\u001b[39;49mdpi)\n\u001b[1;32m    448\u001b[0m     \u001b[39mself\u001b[39m\u001b[39m.\u001b[39m_lastKey \u001b[39m=\u001b[39m key\n\u001b[1;32m    449\u001b[0m \u001b[39melif\u001b[39;00m cleared:\n",
      "File \u001b[0;32m~/opt/anaconda3/envs/geography/lib/python3.10/site-packages/matplotlib/backends/backend_agg.py:93\u001b[0m, in \u001b[0;36mRendererAgg.__init__\u001b[0;34m(self, width, height, dpi)\u001b[0m\n\u001b[1;32m     91\u001b[0m \u001b[39mself\u001b[39m\u001b[39m.\u001b[39mwidth \u001b[39m=\u001b[39m width\n\u001b[1;32m     92\u001b[0m \u001b[39mself\u001b[39m\u001b[39m.\u001b[39mheight \u001b[39m=\u001b[39m height\n\u001b[0;32m---> 93\u001b[0m \u001b[39mself\u001b[39m\u001b[39m.\u001b[39m_renderer \u001b[39m=\u001b[39m _RendererAgg(\u001b[39mint\u001b[39;49m(width), \u001b[39mint\u001b[39;49m(height), dpi)\n\u001b[1;32m     94\u001b[0m \u001b[39mself\u001b[39m\u001b[39m.\u001b[39m_filter_renderers \u001b[39m=\u001b[39m []\n\u001b[1;32m     96\u001b[0m \u001b[39mself\u001b[39m\u001b[39m.\u001b[39m_update_methods()\n",
      "\u001b[0;31mValueError\u001b[0m: Image size of 640x512480 pixels is too large. It must be less than 2^16 in each direction."
     ]
    },
    {
     "data": {
      "text/plain": [
       "<Figure size 640x512480 with 1 Axes>"
      ]
     },
     "metadata": {},
     "output_type": "display_data"
    },
    {
     "ename": "ValueError",
     "evalue": "Image size of 640x512480 pixels is too large. It must be less than 2^16 in each direction.",
     "output_type": "error",
     "traceback": [
      "\u001b[0;31m---------------------------------------------------------------------------\u001b[0m",
      "\u001b[0;31mValueError\u001b[0m                                Traceback (most recent call last)",
      "File \u001b[0;32m~/opt/anaconda3/envs/geography/lib/python3.10/site-packages/IPython/core/formatters.py:339\u001b[0m, in \u001b[0;36mBaseFormatter.__call__\u001b[0;34m(self, obj)\u001b[0m\n\u001b[1;32m    337\u001b[0m     \u001b[39mpass\u001b[39;00m\n\u001b[1;32m    338\u001b[0m \u001b[39melse\u001b[39;00m:\n\u001b[0;32m--> 339\u001b[0m     \u001b[39mreturn\u001b[39;00m printer(obj)\n\u001b[1;32m    340\u001b[0m \u001b[39m# Finally look for special method names\u001b[39;00m\n\u001b[1;32m    341\u001b[0m method \u001b[39m=\u001b[39m get_real_method(obj, \u001b[39mself\u001b[39m\u001b[39m.\u001b[39mprint_method)\n",
      "File \u001b[0;32m~/opt/anaconda3/envs/geography/lib/python3.10/site-packages/IPython/core/pylabtools.py:151\u001b[0m, in \u001b[0;36mprint_figure\u001b[0;34m(fig, fmt, bbox_inches, base64, **kwargs)\u001b[0m\n\u001b[1;32m    148\u001b[0m     \u001b[39mfrom\u001b[39;00m \u001b[39mmatplotlib\u001b[39;00m\u001b[39m.\u001b[39;00m\u001b[39mbackend_bases\u001b[39;00m \u001b[39mimport\u001b[39;00m FigureCanvasBase\n\u001b[1;32m    149\u001b[0m     FigureCanvasBase(fig)\n\u001b[0;32m--> 151\u001b[0m fig\u001b[39m.\u001b[39;49mcanvas\u001b[39m.\u001b[39;49mprint_figure(bytes_io, \u001b[39m*\u001b[39;49m\u001b[39m*\u001b[39;49mkw)\n\u001b[1;32m    152\u001b[0m data \u001b[39m=\u001b[39m bytes_io\u001b[39m.\u001b[39mgetvalue()\n\u001b[1;32m    153\u001b[0m \u001b[39mif\u001b[39;00m fmt \u001b[39m==\u001b[39m \u001b[39m'\u001b[39m\u001b[39msvg\u001b[39m\u001b[39m'\u001b[39m:\n",
      "File \u001b[0;32m~/opt/anaconda3/envs/geography/lib/python3.10/site-packages/matplotlib/backend_bases.py:2289\u001b[0m, in \u001b[0;36mFigureCanvasBase.print_figure\u001b[0;34m(self, filename, dpi, facecolor, edgecolor, orientation, format, bbox_inches, pad_inches, bbox_extra_artists, backend, **kwargs)\u001b[0m\n\u001b[1;32m   2282\u001b[0m     bbox_inches \u001b[39m=\u001b[39m rcParams[\u001b[39m'\u001b[39m\u001b[39msavefig.bbox\u001b[39m\u001b[39m'\u001b[39m]\n\u001b[1;32m   2284\u001b[0m \u001b[39mif\u001b[39;00m (\u001b[39mself\u001b[39m\u001b[39m.\u001b[39mfigure\u001b[39m.\u001b[39mget_constrained_layout() \u001b[39mor\u001b[39;00m\n\u001b[1;32m   2285\u001b[0m         bbox_inches \u001b[39m==\u001b[39m \u001b[39m\"\u001b[39m\u001b[39mtight\u001b[39m\u001b[39m\"\u001b[39m):\n\u001b[1;32m   2286\u001b[0m     \u001b[39m# we need to trigger a draw before printing to make sure\u001b[39;00m\n\u001b[1;32m   2287\u001b[0m     \u001b[39m# CL works.  \"tight\" also needs a draw to get the right\u001b[39;00m\n\u001b[1;32m   2288\u001b[0m     \u001b[39m# locations:\u001b[39;00m\n\u001b[0;32m-> 2289\u001b[0m     renderer \u001b[39m=\u001b[39m _get_renderer(\n\u001b[1;32m   2290\u001b[0m         \u001b[39mself\u001b[39;49m\u001b[39m.\u001b[39;49mfigure,\n\u001b[1;32m   2291\u001b[0m         functools\u001b[39m.\u001b[39;49mpartial(\n\u001b[1;32m   2292\u001b[0m             print_method, orientation\u001b[39m=\u001b[39;49morientation)\n\u001b[1;32m   2293\u001b[0m     )\n\u001b[1;32m   2294\u001b[0m     \u001b[39mwith\u001b[39;00m \u001b[39mgetattr\u001b[39m(renderer, \u001b[39m\"\u001b[39m\u001b[39m_draw_disabled\u001b[39m\u001b[39m\"\u001b[39m, nullcontext)():\n\u001b[1;32m   2295\u001b[0m         \u001b[39mself\u001b[39m\u001b[39m.\u001b[39mfigure\u001b[39m.\u001b[39mdraw(renderer)\n",
      "File \u001b[0;32m~/opt/anaconda3/envs/geography/lib/python3.10/site-packages/matplotlib/backend_bases.py:1544\u001b[0m, in \u001b[0;36m_get_renderer\u001b[0;34m(figure, print_method)\u001b[0m\n\u001b[1;32m   1541\u001b[0m     print_method \u001b[39m=\u001b[39m \u001b[39mgetattr\u001b[39m(\n\u001b[1;32m   1542\u001b[0m         figure\u001b[39m.\u001b[39mcanvas\u001b[39m.\u001b[39m_get_output_canvas(\u001b[39mNone\u001b[39;00m, fmt), \u001b[39mf\u001b[39m\u001b[39m\"\u001b[39m\u001b[39mprint_\u001b[39m\u001b[39m{\u001b[39;00mfmt\u001b[39m}\u001b[39;00m\u001b[39m\"\u001b[39m)\n\u001b[1;32m   1543\u001b[0m \u001b[39mtry\u001b[39;00m:\n\u001b[0;32m-> 1544\u001b[0m     print_method(io\u001b[39m.\u001b[39;49mBytesIO())\n\u001b[1;32m   1545\u001b[0m \u001b[39mexcept\u001b[39;00m Done \u001b[39mas\u001b[39;00m exc:\n\u001b[1;32m   1546\u001b[0m     renderer, \u001b[39m=\u001b[39m figure\u001b[39m.\u001b[39m_cachedRenderer, \u001b[39m=\u001b[39m exc\u001b[39m.\u001b[39margs\n",
      "File \u001b[0;32m~/opt/anaconda3/envs/geography/lib/python3.10/site-packages/matplotlib/backend_bases.py:1648\u001b[0m, in \u001b[0;36m_check_savefig_extra_args.<locals>.wrapper\u001b[0;34m(*args, **kwargs)\u001b[0m\n\u001b[1;32m   1640\u001b[0m     _api\u001b[39m.\u001b[39mwarn_deprecated(\n\u001b[1;32m   1641\u001b[0m         \u001b[39m'\u001b[39m\u001b[39m3.3\u001b[39m\u001b[39m'\u001b[39m, name\u001b[39m=\u001b[39mname, removal\u001b[39m=\u001b[39m\u001b[39m'\u001b[39m\u001b[39m3.6\u001b[39m\u001b[39m'\u001b[39m,\n\u001b[1;32m   1642\u001b[0m         message\u001b[39m=\u001b[39m\u001b[39m'\u001b[39m\u001b[39m%(name)s\u001b[39;00m\u001b[39m() got unexpected keyword argument \u001b[39m\u001b[39m\"\u001b[39m\u001b[39m'\u001b[39m\n\u001b[1;32m   1643\u001b[0m                 \u001b[39m+\u001b[39m arg \u001b[39m+\u001b[39m \u001b[39m'\u001b[39m\u001b[39m\"\u001b[39m\u001b[39m which is no longer supported as of \u001b[39m\u001b[39m'\u001b[39m\n\u001b[1;32m   1644\u001b[0m                 \u001b[39m'\u001b[39m\u001b[39m%(since)s\u001b[39;00m\u001b[39m and will become an error \u001b[39m\u001b[39m'\u001b[39m\n\u001b[1;32m   1645\u001b[0m                 \u001b[39m'\u001b[39m\u001b[39m%(removal)s\u001b[39;00m\u001b[39m'\u001b[39m)\n\u001b[1;32m   1646\u001b[0m     kwargs\u001b[39m.\u001b[39mpop(arg)\n\u001b[0;32m-> 1648\u001b[0m \u001b[39mreturn\u001b[39;00m func(\u001b[39m*\u001b[39;49margs, \u001b[39m*\u001b[39;49m\u001b[39m*\u001b[39;49mkwargs)\n",
      "File \u001b[0;32m~/opt/anaconda3/envs/geography/lib/python3.10/site-packages/matplotlib/_api/deprecation.py:415\u001b[0m, in \u001b[0;36mdelete_parameter.<locals>.wrapper\u001b[0;34m(*inner_args, **inner_kwargs)\u001b[0m\n\u001b[1;32m    405\u001b[0m     deprecation_addendum \u001b[39m=\u001b[39m (\n\u001b[1;32m    406\u001b[0m         \u001b[39mf\u001b[39m\u001b[39m\"\u001b[39m\u001b[39mIf any parameter follows \u001b[39m\u001b[39m{\u001b[39;00mname\u001b[39m!r}\u001b[39;00m\u001b[39m, they should be passed as \u001b[39m\u001b[39m\"\u001b[39m\n\u001b[1;32m    407\u001b[0m         \u001b[39mf\u001b[39m\u001b[39m\"\u001b[39m\u001b[39mkeyword, not positionally.\u001b[39m\u001b[39m\"\u001b[39m)\n\u001b[1;32m    408\u001b[0m     warn_deprecated(\n\u001b[1;32m    409\u001b[0m         since,\n\u001b[1;32m    410\u001b[0m         name\u001b[39m=\u001b[39m\u001b[39mrepr\u001b[39m(name),\n\u001b[0;32m   (...)\u001b[0m\n\u001b[1;32m    413\u001b[0m                  \u001b[39melse\u001b[39;00m deprecation_addendum,\n\u001b[1;32m    414\u001b[0m         \u001b[39m*\u001b[39m\u001b[39m*\u001b[39mkwargs)\n\u001b[0;32m--> 415\u001b[0m \u001b[39mreturn\u001b[39;00m func(\u001b[39m*\u001b[39;49minner_args, \u001b[39m*\u001b[39;49m\u001b[39m*\u001b[39;49minner_kwargs)\n",
      "File \u001b[0;32m~/opt/anaconda3/envs/geography/lib/python3.10/site-packages/matplotlib/backends/backend_agg.py:540\u001b[0m, in \u001b[0;36mFigureCanvasAgg.print_png\u001b[0;34m(self, filename_or_obj, metadata, pil_kwargs, *args)\u001b[0m\n\u001b[1;32m    490\u001b[0m \u001b[39m@_check_savefig_extra_args\u001b[39m\n\u001b[1;32m    491\u001b[0m \u001b[39m@_api\u001b[39m\u001b[39m.\u001b[39mdelete_parameter(\u001b[39m\"\u001b[39m\u001b[39m3.5\u001b[39m\u001b[39m\"\u001b[39m, \u001b[39m\"\u001b[39m\u001b[39margs\u001b[39m\u001b[39m\"\u001b[39m)\n\u001b[1;32m    492\u001b[0m \u001b[39mdef\u001b[39;00m \u001b[39mprint_png\u001b[39m(\u001b[39mself\u001b[39m, filename_or_obj, \u001b[39m*\u001b[39margs,\n\u001b[1;32m    493\u001b[0m               metadata\u001b[39m=\u001b[39m\u001b[39mNone\u001b[39;00m, pil_kwargs\u001b[39m=\u001b[39m\u001b[39mNone\u001b[39;00m):\n\u001b[1;32m    494\u001b[0m     \u001b[39m\"\"\"\u001b[39;00m\n\u001b[1;32m    495\u001b[0m \u001b[39m    Write the figure to a PNG file.\u001b[39;00m\n\u001b[1;32m    496\u001b[0m \n\u001b[0;32m   (...)\u001b[0m\n\u001b[1;32m    538\u001b[0m \u001b[39m        *metadata*, including the default 'Software' key.\u001b[39;00m\n\u001b[1;32m    539\u001b[0m \u001b[39m    \"\"\"\u001b[39;00m\n\u001b[0;32m--> 540\u001b[0m     FigureCanvasAgg\u001b[39m.\u001b[39;49mdraw(\u001b[39mself\u001b[39;49m)\n\u001b[1;32m    541\u001b[0m     mpl\u001b[39m.\u001b[39mimage\u001b[39m.\u001b[39mimsave(\n\u001b[1;32m    542\u001b[0m         filename_or_obj, \u001b[39mself\u001b[39m\u001b[39m.\u001b[39mbuffer_rgba(), \u001b[39mformat\u001b[39m\u001b[39m=\u001b[39m\u001b[39m\"\u001b[39m\u001b[39mpng\u001b[39m\u001b[39m\"\u001b[39m, origin\u001b[39m=\u001b[39m\u001b[39m\"\u001b[39m\u001b[39mupper\u001b[39m\u001b[39m\"\u001b[39m,\n\u001b[1;32m    543\u001b[0m         dpi\u001b[39m=\u001b[39m\u001b[39mself\u001b[39m\u001b[39m.\u001b[39mfigure\u001b[39m.\u001b[39mdpi, metadata\u001b[39m=\u001b[39mmetadata, pil_kwargs\u001b[39m=\u001b[39mpil_kwargs)\n",
      "File \u001b[0;32m~/opt/anaconda3/envs/geography/lib/python3.10/site-packages/matplotlib/backends/backend_agg.py:431\u001b[0m, in \u001b[0;36mFigureCanvasAgg.draw\u001b[0;34m(self)\u001b[0m\n\u001b[1;32m    429\u001b[0m \u001b[39mdef\u001b[39;00m \u001b[39mdraw\u001b[39m(\u001b[39mself\u001b[39m):\n\u001b[1;32m    430\u001b[0m     \u001b[39m# docstring inherited\u001b[39;00m\n\u001b[0;32m--> 431\u001b[0m     \u001b[39mself\u001b[39m\u001b[39m.\u001b[39mrenderer \u001b[39m=\u001b[39m \u001b[39mself\u001b[39;49m\u001b[39m.\u001b[39;49mget_renderer(cleared\u001b[39m=\u001b[39;49m\u001b[39mTrue\u001b[39;49;00m)\n\u001b[1;32m    432\u001b[0m     \u001b[39m# Acquire a lock on the shared font cache.\u001b[39;00m\n\u001b[1;32m    433\u001b[0m     \u001b[39mwith\u001b[39;00m RendererAgg\u001b[39m.\u001b[39mlock, \\\n\u001b[1;32m    434\u001b[0m          (\u001b[39mself\u001b[39m\u001b[39m.\u001b[39mtoolbar\u001b[39m.\u001b[39m_wait_cursor_for_draw_cm() \u001b[39mif\u001b[39;00m \u001b[39mself\u001b[39m\u001b[39m.\u001b[39mtoolbar\n\u001b[1;32m    435\u001b[0m           \u001b[39melse\u001b[39;00m nullcontext()):\n",
      "File \u001b[0;32m~/opt/anaconda3/envs/geography/lib/python3.10/site-packages/matplotlib/backends/backend_agg.py:447\u001b[0m, in \u001b[0;36mFigureCanvasAgg.get_renderer\u001b[0;34m(self, cleared)\u001b[0m\n\u001b[1;32m    444\u001b[0m reuse_renderer \u001b[39m=\u001b[39m (\u001b[39mhasattr\u001b[39m(\u001b[39mself\u001b[39m, \u001b[39m\"\u001b[39m\u001b[39mrenderer\u001b[39m\u001b[39m\"\u001b[39m)\n\u001b[1;32m    445\u001b[0m                   \u001b[39mand\u001b[39;00m \u001b[39mgetattr\u001b[39m(\u001b[39mself\u001b[39m, \u001b[39m\"\u001b[39m\u001b[39m_lastKey\u001b[39m\u001b[39m\"\u001b[39m, \u001b[39mNone\u001b[39;00m) \u001b[39m==\u001b[39m key)\n\u001b[1;32m    446\u001b[0m \u001b[39mif\u001b[39;00m \u001b[39mnot\u001b[39;00m reuse_renderer:\n\u001b[0;32m--> 447\u001b[0m     \u001b[39mself\u001b[39m\u001b[39m.\u001b[39mrenderer \u001b[39m=\u001b[39m RendererAgg(w, h, \u001b[39mself\u001b[39;49m\u001b[39m.\u001b[39;49mfigure\u001b[39m.\u001b[39;49mdpi)\n\u001b[1;32m    448\u001b[0m     \u001b[39mself\u001b[39m\u001b[39m.\u001b[39m_lastKey \u001b[39m=\u001b[39m key\n\u001b[1;32m    449\u001b[0m \u001b[39melif\u001b[39;00m cleared:\n",
      "File \u001b[0;32m~/opt/anaconda3/envs/geography/lib/python3.10/site-packages/matplotlib/backends/backend_agg.py:93\u001b[0m, in \u001b[0;36mRendererAgg.__init__\u001b[0;34m(self, width, height, dpi)\u001b[0m\n\u001b[1;32m     91\u001b[0m \u001b[39mself\u001b[39m\u001b[39m.\u001b[39mwidth \u001b[39m=\u001b[39m width\n\u001b[1;32m     92\u001b[0m \u001b[39mself\u001b[39m\u001b[39m.\u001b[39mheight \u001b[39m=\u001b[39m height\n\u001b[0;32m---> 93\u001b[0m \u001b[39mself\u001b[39m\u001b[39m.\u001b[39m_renderer \u001b[39m=\u001b[39m _RendererAgg(\u001b[39mint\u001b[39;49m(width), \u001b[39mint\u001b[39;49m(height), dpi)\n\u001b[1;32m     94\u001b[0m \u001b[39mself\u001b[39m\u001b[39m.\u001b[39m_filter_renderers \u001b[39m=\u001b[39m []\n\u001b[1;32m     96\u001b[0m \u001b[39mself\u001b[39m\u001b[39m.\u001b[39m_update_methods()\n",
      "\u001b[0;31mValueError\u001b[0m: Image size of 640x512480 pixels is too large. It must be less than 2^16 in each direction."
     ]
    },
    {
     "data": {
      "text/plain": [
       "<Figure size 640x512480 with 1 Axes>"
      ]
     },
     "metadata": {},
     "output_type": "display_data"
    }
   ],
   "source": [
    "mlflow.lightgbm.autolog()\n",
    "\n",
    "lgbm_clf = LGBMClassifier(n_estimators=100, max_depth=10, random_state=42)\n",
    "\n",
    "with mlflow.start_run(run_id=0):\n",
    "    lgbm_clf.fit(X_train_scale, y_train, eval_set=[(X_train_scale, y_train), (X_test_scale, y_test)], verbose=True)"
   ]
  },
  {
   "cell_type": "code",
   "execution_count": 28,
   "metadata": {},
   "outputs": [
    {
     "name": "stdout",
     "output_type": "stream",
     "text": [
      "Accuracy: 0.6212121212121212\n",
      "Precision: 0.6163583112658613\n",
      "Recall: 0.6212121212121212\n",
      "F1: 0.6084384716492426\n"
     ]
    }
   ],
   "source": [
    "valid_model(lgbm_clf, X_test_scale, y_test)"
   ]
  },
  {
   "cell_type": "code",
   "execution_count": 29,
   "metadata": {},
   "outputs": [
    {
     "name": "stderr",
     "output_type": "stream",
     "text": [
      "/Users/namirinz/opt/anaconda3/envs/geography/lib/python3.10/site-packages/sklearn/utils/deprecation.py:87: FutureWarning: Function plot_confusion_matrix is deprecated; Function `plot_confusion_matrix` is deprecated in 1.0 and will be removed in 1.2. Use one of the class methods: ConfusionMatrixDisplay.from_predictions or ConfusionMatrixDisplay.from_estimator.\n",
      "  warnings.warn(msg, category=FutureWarning)\n"
     ]
    },
    {
     "data": {
      "image/png": "[encoded data removed]",
      "text/plain": [
       "<Figure size 640x480 with 2 Axes>"
      ]
     },
     "metadata": {},
     "output_type": "display_data"
    }
   ],
   "source": [
    "plot_confusion_matrix(lgbm_clf, X_test_scale, y_test);"
   ]
  },
  {
   "cell_type": "code",
   "execution_count": null,
   "metadata": {},
   "outputs": [],
   "source": []
  }
 ],
 "metadata": {
  "kernelspec": {
   "display_name": "Python 3.10.5 ('geography')",
   "language": "python",
   "name": "python3"
  },
  "language_info": {
   "codemirror_mode": {
    "name": "ipython",
    "version": 3
   },
   "file_extension": ".py",
   "mimetype": "text/x-python",
   "name": "python",
   "nbconvert_exporter": "python",
   "pygments_lexer": "ipython3",
   "version": "3.10.5"
  },
  "orig_nbformat": 4,
  "vscode": {
   "interpreter": {
    "hash": "ec47ddaa628f0055259aac9a739c5821fcda65513741406b6aec15104e24ef3e"
   }
  }
 },
 "nbformat": 4,
 "nbformat_minor": 2
}
