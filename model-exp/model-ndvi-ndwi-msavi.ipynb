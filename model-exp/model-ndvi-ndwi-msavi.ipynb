{
 "cells": [
  {
   "cell_type": "code",
   "execution_count": 16,
   "metadata": {},
   "outputs": [],
   "source": [
    "import os\n",
    "import numpy as np"
   ]
  },
  {
   "cell_type": "code",
   "execution_count": 17,
   "metadata": {},
   "outputs": [],
   "source": [
    "import mlflow\n",
    "\n",
    "mlflow.sklearn.autolog()"
   ]
  },
  {
   "cell_type": "markdown",
   "metadata": {},
   "source": [
    "# Create dataset"
   ]
  },
  {
   "cell_type": "code",
   "execution_count": 18,
   "metadata": {},
   "outputs": [],
   "source": [
    "LABELS = ['Cassava', 'Rice', 'Maize', 'Sugarcane']"
   ]
  },
  {
   "cell_type": "code",
   "execution_count": 19,
   "metadata": {},
   "outputs": [
    {
     "data": {
      "text/plain": [
       "['/Users/namirinz/git-projects/varuna-hackathon/data/processed/ndvi/ndvi_feature_2D_20211222.pkl',\n",
       " '/Users/namirinz/git-projects/varuna-hackathon/data/processed/ndvi/ndvi_feature_2D_20211127.pkl',\n",
       " '/Users/namirinz/git-projects/varuna-hackathon/data/processed/ndvi/ndvi_feature_2D_20210620.pkl',\n",
       " '/Users/namirinz/git-projects/varuna-hackathon/data/processed/ndvi/ndvi_feature_2D_20210327.pkl',\n",
       " '/Users/namirinz/git-projects/varuna-hackathon/data/processed/ndwi/ndwi_feature_2D_20211127.pkl',\n",
       " '/Users/namirinz/git-projects/varuna-hackathon/data/processed/ndwi/ndwi_feature_2D_20211222.pkl',\n",
       " '/Users/namirinz/git-projects/varuna-hackathon/data/processed/ndwi/ndwi_feature_2D_20210327.pkl',\n",
       " '/Users/namirinz/git-projects/varuna-hackathon/data/processed/ndwi/ndwi_feature_2D_20210620.pkl',\n",
       " '/Users/namirinz/git-projects/varuna-hackathon/data/processed/msavi/msavi_feature_2D_20211222.pkl',\n",
       " '/Users/namirinz/git-projects/varuna-hackathon/data/processed/msavi/msavi_feature_2D_20211127.pkl',\n",
       " '/Users/namirinz/git-projects/varuna-hackathon/data/processed/msavi/msavi_feature_2D_20210620.pkl',\n",
       " '/Users/namirinz/git-projects/varuna-hackathon/data/processed/msavi/msavi_feature_2D_20210327.pkl']"
      ]
     },
     "execution_count": 19,
     "metadata": {},
     "output_type": "execute_result"
    }
   ],
   "source": [
    "ROOT_DIR = os.path.abspath('..')\n",
    "PROCESSED_DIR = os.path.join(ROOT_DIR, 'data', 'processed')\n",
    "\n",
    "data_files = []\n",
    "\n",
    "for feature_name in ['ndvi', 'ndwi', 'msavi']:\n",
    "    for file in os.listdir(os.path.join(PROCESSED_DIR, feature_name)):\n",
    "        if file != '.DS_Store':\n",
    "            data_files.append('/'.join([PROCESSED_DIR, feature_name, file]))\n",
    "\n",
    "data_files"
   ]
  },
  {
   "cell_type": "code",
   "execution_count": 20,
   "metadata": {},
   "outputs": [
    {
     "data": {
      "text/plain": [
       "(1317, array(['1', '1', '1', ..., '1', '3', '3'], dtype=object))"
      ]
     },
     "execution_count": 20,
     "metadata": {},
     "output_type": "execute_result"
    }
   ],
   "source": [
    "import geopandas\n",
    "\n",
    "gorund_truth = geopandas.read_file(\n",
    "    os.path.join(ROOT_DIR, 'data', 'raw', 'training_area', 'traindata.shp')\n",
    ")\n",
    "\n",
    "labels = gorund_truth['crop_type'].values\n",
    "\n",
    "len(labels), labels"
   ]
  },
  {
   "cell_type": "code",
   "execution_count": 21,
   "metadata": {},
   "outputs": [
    {
     "name": "stdout",
     "output_type": "stream",
     "text": [
      "(1317, 6400)\n",
      "(1317, 12800)\n",
      "(1317, 19200)\n",
      "(1317, 25600)\n",
      "(1317, 32000)\n",
      "(1317, 38400)\n",
      "(1317, 44800)\n",
      "(1317, 51200)\n",
      "(1317, 57600)\n",
      "(1317, 64000)\n",
      "(1317, 70400)\n",
      "(1317, 76800)\n"
     ]
    }
   ],
   "source": [
    "data = []\n",
    "\n",
    "for idx, file in enumerate(data_files):\n",
    "    sub_data = np.load(file, allow_pickle=True)\n",
    "    if len(data) == 0:\n",
    "        data = sub_data\n",
    "    else:\n",
    "        data = np.concatenate((data, sub_data), axis=1)\n",
    "\n",
    "    print(data.shape)\n",
    "\n",
    "data = np.array(data)    "
   ]
  },
  {
   "cell_type": "markdown",
   "metadata": {},
   "source": [
    "## Train-Test Split"
   ]
  },
  {
   "cell_type": "code",
   "execution_count": 22,
   "metadata": {},
   "outputs": [
    {
     "data": {
      "text/plain": [
       "((1119, 76800), (198, 76800), (1119,), (198,))"
      ]
     },
     "execution_count": 22,
     "metadata": {},
     "output_type": "execute_result"
    }
   ],
   "source": [
    "from sklearn.model_selection import train_test_split\n",
    "\n",
    "X_train, X_test, y_train, y_test = train_test_split(data, labels, stratify=labels, test_size=0.15, random_state=42)\n",
    "\n",
    "X_train.shape, X_test.shape, y_train.shape, y_test.shape"
   ]
  },
  {
   "cell_type": "code",
   "execution_count": 23,
   "metadata": {},
   "outputs": [
    {
     "data": {
      "text/plain": [
       "(-2876.0, 11452.0, 30.745816160728726)"
      ]
     },
     "execution_count": 23,
     "metadata": {},
     "output_type": "execute_result"
    }
   ],
   "source": [
    "np.min(X_train), np.max(X_train), np.mean(X_train)"
   ]
  },
  {
   "cell_type": "markdown",
   "metadata": {},
   "source": [
    "# Scaler data"
   ]
  },
  {
   "cell_type": "code",
   "execution_count": 24,
   "metadata": {},
   "outputs": [],
   "source": [
    "# Minmax scaler\n",
    "from sklearn.preprocessing import MinMaxScaler, StandardScaler"
   ]
  },
  {
   "cell_type": "code",
   "execution_count": 25,
   "metadata": {},
   "outputs": [],
   "source": [
    "minmax_scaler = MinMaxScaler()\n",
    "# std_scaler = StandardScaler()\n",
    "\n",
    "minmax_scaler.fit(X_train)\n",
    "\n",
    "X_train_scale = minmax_scaler.transform(X_train)\n",
    "X_test_scale = minmax_scaler.transform(X_test)"
   ]
  },
  {
   "cell_type": "code",
   "execution_count": 26,
   "metadata": {},
   "outputs": [
    {
     "data": {
      "text/plain": [
       "(0.0, 1.0000000000000002)"
      ]
     },
     "execution_count": 26,
     "metadata": {},
     "output_type": "execute_result"
    }
   ],
   "source": [
    "np.min(X_train_scale), np.max(X_train_scale)"
   ]
  },
  {
   "cell_type": "markdown",
   "metadata": {},
   "source": [
    "# Model"
   ]
  },
  {
   "cell_type": "code",
   "execution_count": 27,
   "metadata": {},
   "outputs": [],
   "source": [
    "from sklearn.metrics import plot_confusion_matrix"
   ]
  },
  {
   "cell_type": "code",
   "execution_count": 28,
   "metadata": {},
   "outputs": [],
   "source": [
    "from sklearn.ensemble import RandomForestClassifier\n",
    "from sklearn.linear_model import LogisticRegression"
   ]
  },
  {
   "cell_type": "markdown",
   "metadata": {},
   "source": [
    "# Metrics"
   ]
  },
  {
   "cell_type": "code",
   "execution_count": 41,
   "metadata": {},
   "outputs": [],
   "source": [
    "from sklearn.metrics import accuracy_score, precision_score, recall_score, f1_score\n",
    "\n",
    "def valid_model(model, X_test, y_test):\n",
    "    y_pred = model.predict(X_test)\n",
    "    \n",
    "    print('Accuracy:', accuracy_score(y_test, y_pred))\n",
    "    print('Precision:', precision_score(y_test, y_pred, average='weighted'))\n",
    "    print('Recall:', recall_score(y_test, y_pred, average='weighted'))\n",
    "    print('F1:', f1_score(y_test, y_pred, average='weighted'))"
   ]
  },
  {
   "cell_type": "markdown",
   "metadata": {},
   "source": [
    "# RandomForest Classifier"
   ]
  },
  {
   "cell_type": "code",
   "execution_count": 29,
   "metadata": {},
   "outputs": [
    {
     "name": "stderr",
     "output_type": "stream",
     "text": [
      "2022/06/19 23:03:46 WARNING mlflow.utils.autologging_utils: MLflow autologging encountered a warning: \"/Users/namirinz/opt/anaconda3/envs/geography/lib/python3.10/site-packages/_distutils_hack/__init__.py:30: UserWarning: Setuptools is replacing distutils.\"\n"
     ]
    }
   ],
   "source": [
    "rf_cls = RandomForestClassifier(n_estimators=100, max_depth=10, random_state=42)\n",
    "\n",
    "with mlflow.start_run(experiment_id='1'):\n",
    "    rf_cls.fit(X_train_scale, y_train)\n",
    "    metrics = mlflow.sklearn.eval_and_log_metrics(rf_cls, X_test_scale, y_test, prefix=\"val_\")"
   ]
  },
  {
   "cell_type": "code",
   "execution_count": 42,
   "metadata": {},
   "outputs": [
    {
     "name": "stdout",
     "output_type": "stream",
     "text": [
      "Accuracy: 0.6161616161616161\n",
      "Precision: 0.6097777489794596\n",
      "Recall: 0.6161616161616161\n",
      "F1: 0.5860649572846315\n"
     ]
    }
   ],
   "source": [
    "valid_model(rf_cls, X_test_scale, y_test)"
   ]
  },
  {
   "cell_type": "code",
   "execution_count": 31,
   "metadata": {},
   "outputs": [
    {
     "name": "stderr",
     "output_type": "stream",
     "text": [
      "/Users/namirinz/opt/anaconda3/envs/geography/lib/python3.10/site-packages/sklearn/utils/deprecation.py:87: FutureWarning: Function plot_confusion_matrix is deprecated; Function `plot_confusion_matrix` is deprecated in 1.0 and will be removed in 1.2. Use one of the class methods: ConfusionMatrixDisplay.from_predictions or ConfusionMatrixDisplay.from_estimator.\n",
      "  warnings.warn(msg, category=FutureWarning)\n"
     ]
    },
    {
     "data": {
      "image/png": "[encoded data removed]",
      "text/plain": [
       "<Figure size 640x480 with 2 Axes>"
      ]
     },
     "metadata": {},
     "output_type": "display_data"
    }
   ],
   "source": [
    "plot_confusion_matrix(rf_cls, X_test_scale, y_test);"
   ]
  },
  {
   "cell_type": "markdown",
   "metadata": {},
   "source": [
    "# XGBoost"
   ]
  },
  {
   "cell_type": "code",
   "execution_count": 32,
   "metadata": {},
   "outputs": [
    {
     "name": "stderr",
     "output_type": "stream",
     "text": [
      "/Users/namirinz/opt/anaconda3/envs/geography/lib/python3.10/site-packages/xgboost/compat.py:36: FutureWarning: pandas.Int64Index is deprecated and will be removed from pandas in a future version. Use pandas.Index with the appropriate dtype instead.\n",
      "  from pandas import MultiIndex, Int64Index\n"
     ]
    }
   ],
   "source": [
    "from xgboost import XGBClassifier\n",
    "from sklearn.metrics import accuracy_score"
   ]
  },
  {
   "cell_type": "code",
   "execution_count": 33,
   "metadata": {},
   "outputs": [
    {
     "name": "stderr",
     "output_type": "stream",
     "text": [
      "/Users/namirinz/opt/anaconda3/envs/geography/lib/python3.10/site-packages/xgboost/sklearn.py:1224: UserWarning: The use of label encoder in XGBClassifier is deprecated and will be removed in a future release. To remove this warning, do the following: 1) Pass option use_label_encoder=False when constructing XGBClassifier object; and 2) Encode your labels (y) as integers starting with 0, i.e. 0, 1, 2, ..., [num_class - 1].\n",
      "  warnings.warn(label_encoder_deprecation_msg, UserWarning)\n"
     ]
    },
    {
     "name": "stdout",
     "output_type": "stream",
     "text": [
      "[23:03:49] WARNING: /Users/runner/miniforge3/conda-bld/xgboost-split_1645117899018/work/src/learner.cc:1115: Starting in XGBoost 1.3.0, the default evaluation metric used with the objective 'multi:softprob' was changed from 'merror' to 'mlogloss'. Explicitly set eval_metric if you'd like to restore the old behavior.\n",
      "[0]\tvalidation_0-mlogloss:0.99814\tvalidation_1-mlogloss:1.26899\n",
      "[1]\tvalidation_0-mlogloss:0.75351\tvalidation_1-mlogloss:1.18340\n",
      "[2]\tvalidation_0-mlogloss:0.56885\tvalidation_1-mlogloss:1.11964\n",
      "[3]\tvalidation_0-mlogloss:0.44007\tvalidation_1-mlogloss:1.08808\n",
      "[4]\tvalidation_0-mlogloss:0.34640\tvalidation_1-mlogloss:1.07604\n",
      "[5]\tvalidation_0-mlogloss:0.27266\tvalidation_1-mlogloss:1.06556\n",
      "[6]\tvalidation_0-mlogloss:0.21730\tvalidation_1-mlogloss:1.05620\n",
      "[7]\tvalidation_0-mlogloss:0.17547\tvalidation_1-mlogloss:1.06103\n",
      "[8]\tvalidation_0-mlogloss:0.14323\tvalidation_1-mlogloss:1.05296\n",
      "[9]\tvalidation_0-mlogloss:0.11881\tvalidation_1-mlogloss:1.05094\n",
      "[10]\tvalidation_0-mlogloss:0.09973\tvalidation_1-mlogloss:1.05985\n",
      "[11]\tvalidation_0-mlogloss:0.08487\tvalidation_1-mlogloss:1.05915\n",
      "[12]\tvalidation_0-mlogloss:0.07309\tvalidation_1-mlogloss:1.06549\n",
      "[13]\tvalidation_0-mlogloss:0.06346\tvalidation_1-mlogloss:1.06631\n",
      "[14]\tvalidation_0-mlogloss:0.05599\tvalidation_1-mlogloss:1.09028\n",
      "[15]\tvalidation_0-mlogloss:0.04972\tvalidation_1-mlogloss:1.09223\n",
      "[16]\tvalidation_0-mlogloss:0.04440\tvalidation_1-mlogloss:1.10267\n",
      "[17]\tvalidation_0-mlogloss:0.04006\tvalidation_1-mlogloss:1.09908\n",
      "[18]\tvalidation_0-mlogloss:0.03647\tvalidation_1-mlogloss:1.10412\n",
      "[19]\tvalidation_0-mlogloss:0.03331\tvalidation_1-mlogloss:1.10895\n",
      "[20]\tvalidation_0-mlogloss:0.03077\tvalidation_1-mlogloss:1.11908\n",
      "[21]\tvalidation_0-mlogloss:0.02857\tvalidation_1-mlogloss:1.12458\n",
      "[22]\tvalidation_0-mlogloss:0.02649\tvalidation_1-mlogloss:1.13211\n",
      "[23]\tvalidation_0-mlogloss:0.02475\tvalidation_1-mlogloss:1.13806\n",
      "[24]\tvalidation_0-mlogloss:0.02319\tvalidation_1-mlogloss:1.14697\n",
      "[25]\tvalidation_0-mlogloss:0.02186\tvalidation_1-mlogloss:1.15677\n",
      "[26]\tvalidation_0-mlogloss:0.02062\tvalidation_1-mlogloss:1.16532\n",
      "[27]\tvalidation_0-mlogloss:0.01952\tvalidation_1-mlogloss:1.16599\n",
      "[28]\tvalidation_0-mlogloss:0.01853\tvalidation_1-mlogloss:1.17147\n",
      "[29]\tvalidation_0-mlogloss:0.01766\tvalidation_1-mlogloss:1.18036\n",
      "[30]\tvalidation_0-mlogloss:0.01687\tvalidation_1-mlogloss:1.18793\n",
      "[31]\tvalidation_0-mlogloss:0.01617\tvalidation_1-mlogloss:1.19284\n",
      "[32]\tvalidation_0-mlogloss:0.01552\tvalidation_1-mlogloss:1.19761\n",
      "[33]\tvalidation_0-mlogloss:0.01494\tvalidation_1-mlogloss:1.20298\n",
      "[34]\tvalidation_0-mlogloss:0.01438\tvalidation_1-mlogloss:1.21086\n",
      "[35]\tvalidation_0-mlogloss:0.01387\tvalidation_1-mlogloss:1.21420\n",
      "[36]\tvalidation_0-mlogloss:0.01335\tvalidation_1-mlogloss:1.21920\n",
      "[37]\tvalidation_0-mlogloss:0.01288\tvalidation_1-mlogloss:1.22429\n",
      "[38]\tvalidation_0-mlogloss:0.01246\tvalidation_1-mlogloss:1.22720\n",
      "[39]\tvalidation_0-mlogloss:0.01208\tvalidation_1-mlogloss:1.23279\n",
      "[40]\tvalidation_0-mlogloss:0.01170\tvalidation_1-mlogloss:1.23418\n",
      "[41]\tvalidation_0-mlogloss:0.01135\tvalidation_1-mlogloss:1.23702\n",
      "[42]\tvalidation_0-mlogloss:0.01101\tvalidation_1-mlogloss:1.23941\n",
      "[43]\tvalidation_0-mlogloss:0.01073\tvalidation_1-mlogloss:1.24110\n",
      "[44]\tvalidation_0-mlogloss:0.01046\tvalidation_1-mlogloss:1.24253\n",
      "[45]\tvalidation_0-mlogloss:0.01020\tvalidation_1-mlogloss:1.24457\n",
      "[46]\tvalidation_0-mlogloss:0.00996\tvalidation_1-mlogloss:1.24855\n",
      "[47]\tvalidation_0-mlogloss:0.00974\tvalidation_1-mlogloss:1.25170\n",
      "[48]\tvalidation_0-mlogloss:0.00952\tvalidation_1-mlogloss:1.25509\n",
      "[49]\tvalidation_0-mlogloss:0.00931\tvalidation_1-mlogloss:1.25715\n",
      "[50]\tvalidation_0-mlogloss:0.00911\tvalidation_1-mlogloss:1.26062\n",
      "[51]\tvalidation_0-mlogloss:0.00892\tvalidation_1-mlogloss:1.26512\n",
      "[52]\tvalidation_0-mlogloss:0.00874\tvalidation_1-mlogloss:1.26633\n",
      "[53]\tvalidation_0-mlogloss:0.00858\tvalidation_1-mlogloss:1.26977\n",
      "[54]\tvalidation_0-mlogloss:0.00842\tvalidation_1-mlogloss:1.27627\n",
      "[55]\tvalidation_0-mlogloss:0.00827\tvalidation_1-mlogloss:1.27489\n",
      "[56]\tvalidation_0-mlogloss:0.00813\tvalidation_1-mlogloss:1.27517\n",
      "[57]\tvalidation_0-mlogloss:0.00799\tvalidation_1-mlogloss:1.28095\n",
      "[58]\tvalidation_0-mlogloss:0.00787\tvalidation_1-mlogloss:1.28244\n",
      "[59]\tvalidation_0-mlogloss:0.00773\tvalidation_1-mlogloss:1.28339\n",
      "[60]\tvalidation_0-mlogloss:0.00760\tvalidation_1-mlogloss:1.28531\n",
      "[61]\tvalidation_0-mlogloss:0.00749\tvalidation_1-mlogloss:1.28777\n",
      "[62]\tvalidation_0-mlogloss:0.00738\tvalidation_1-mlogloss:1.29047\n",
      "[63]\tvalidation_0-mlogloss:0.00727\tvalidation_1-mlogloss:1.29293\n",
      "[64]\tvalidation_0-mlogloss:0.00717\tvalidation_1-mlogloss:1.29220\n",
      "[65]\tvalidation_0-mlogloss:0.00707\tvalidation_1-mlogloss:1.29487\n",
      "[66]\tvalidation_0-mlogloss:0.00696\tvalidation_1-mlogloss:1.29738\n",
      "[67]\tvalidation_0-mlogloss:0.00686\tvalidation_1-mlogloss:1.30097\n",
      "[68]\tvalidation_0-mlogloss:0.00677\tvalidation_1-mlogloss:1.30257\n",
      "[69]\tvalidation_0-mlogloss:0.00667\tvalidation_1-mlogloss:1.30438\n",
      "[70]\tvalidation_0-mlogloss:0.00658\tvalidation_1-mlogloss:1.30452\n",
      "[71]\tvalidation_0-mlogloss:0.00649\tvalidation_1-mlogloss:1.30659\n",
      "[72]\tvalidation_0-mlogloss:0.00641\tvalidation_1-mlogloss:1.30639\n",
      "[73]\tvalidation_0-mlogloss:0.00634\tvalidation_1-mlogloss:1.30943\n",
      "[74]\tvalidation_0-mlogloss:0.00627\tvalidation_1-mlogloss:1.31233\n",
      "[75]\tvalidation_0-mlogloss:0.00620\tvalidation_1-mlogloss:1.31261\n",
      "[76]\tvalidation_0-mlogloss:0.00614\tvalidation_1-mlogloss:1.31520\n",
      "[77]\tvalidation_0-mlogloss:0.00607\tvalidation_1-mlogloss:1.31626\n",
      "[78]\tvalidation_0-mlogloss:0.00600\tvalidation_1-mlogloss:1.31916\n",
      "[79]\tvalidation_0-mlogloss:0.00594\tvalidation_1-mlogloss:1.32178\n",
      "[80]\tvalidation_0-mlogloss:0.00588\tvalidation_1-mlogloss:1.32379\n",
      "[81]\tvalidation_0-mlogloss:0.00581\tvalidation_1-mlogloss:1.32610\n",
      "[82]\tvalidation_0-mlogloss:0.00575\tvalidation_1-mlogloss:1.33139\n",
      "[83]\tvalidation_0-mlogloss:0.00570\tvalidation_1-mlogloss:1.33094\n",
      "[84]\tvalidation_0-mlogloss:0.00564\tvalidation_1-mlogloss:1.33198\n",
      "[85]\tvalidation_0-mlogloss:0.00558\tvalidation_1-mlogloss:1.33541\n",
      "[86]\tvalidation_0-mlogloss:0.00553\tvalidation_1-mlogloss:1.33756\n",
      "[87]\tvalidation_0-mlogloss:0.00549\tvalidation_1-mlogloss:1.34120\n",
      "[88]\tvalidation_0-mlogloss:0.00544\tvalidation_1-mlogloss:1.34296\n",
      "[89]\tvalidation_0-mlogloss:0.00539\tvalidation_1-mlogloss:1.34273\n",
      "[90]\tvalidation_0-mlogloss:0.00534\tvalidation_1-mlogloss:1.34525\n",
      "[91]\tvalidation_0-mlogloss:0.00529\tvalidation_1-mlogloss:1.34520\n",
      "[92]\tvalidation_0-mlogloss:0.00524\tvalidation_1-mlogloss:1.34674\n",
      "[93]\tvalidation_0-mlogloss:0.00520\tvalidation_1-mlogloss:1.34792\n",
      "[94]\tvalidation_0-mlogloss:0.00515\tvalidation_1-mlogloss:1.34990\n",
      "[95]\tvalidation_0-mlogloss:0.00511\tvalidation_1-mlogloss:1.35015\n",
      "[96]\tvalidation_0-mlogloss:0.00507\tvalidation_1-mlogloss:1.34837\n",
      "[97]\tvalidation_0-mlogloss:0.00503\tvalidation_1-mlogloss:1.34868\n",
      "[98]\tvalidation_0-mlogloss:0.00499\tvalidation_1-mlogloss:1.34979\n",
      "[99]\tvalidation_0-mlogloss:0.00496\tvalidation_1-mlogloss:1.34933\n"
     ]
    }
   ],
   "source": [
    "mlflow.xgboost.autolog()\n",
    "\n",
    "xgb_clf = XGBClassifier(n_estimators=100, max_depth=10, random_state=42)\n",
    "\n",
    "with mlflow.start_run(experiment_id='1'):\n",
    "    xgb_clf.fit(\n",
    "        X_train_scale, y_train,\n",
    "        eval_set=[(X_train_scale, y_train), (X_test_scale, y_test)],\n",
    "        verbose=True,\n",
    "        )\n",
    "    mlflow.log_metric('accuracy', accuracy_score(y_test, xgb_clf.predict(X_test_scale)))"
   ]
  },
  {
   "cell_type": "code",
   "execution_count": 43,
   "metadata": {},
   "outputs": [
    {
     "name": "stdout",
     "output_type": "stream",
     "text": [
      "Accuracy: 0.6313131313131313\n",
      "Precision: 0.6384728569639552\n",
      "Recall: 0.6313131313131313\n",
      "F1: 0.6185361571970195\n"
     ]
    }
   ],
   "source": [
    "valid_model(xgb_clf, X_test_scale, y_test)"
   ]
  },
  {
   "cell_type": "code",
   "execution_count": 44,
   "metadata": {},
   "outputs": [
    {
     "name": "stderr",
     "output_type": "stream",
     "text": [
      "/Users/namirinz/opt/anaconda3/envs/geography/lib/python3.10/site-packages/sklearn/utils/deprecation.py:87: FutureWarning: Function plot_confusion_matrix is deprecated; Function `plot_confusion_matrix` is deprecated in 1.0 and will be removed in 1.2. Use one of the class methods: ConfusionMatrixDisplay.from_predictions or ConfusionMatrixDisplay.from_estimator.\n",
      "  warnings.warn(msg, category=FutureWarning)\n"
     ]
    },
    {
     "data": {
      "image/png": "[encoded data removed]",
      "text/plain": [
       "<Figure size 640x480 with 2 Axes>"
      ]
     },
     "metadata": {},
     "output_type": "display_data"
    }
   ],
   "source": [
    "plot_confusion_matrix(xgb_clf, X_test_scale, y_test);"
   ]
  },
  {
   "cell_type": "markdown",
   "metadata": {},
   "source": [
    "# LightGBM"
   ]
  },
  {
   "cell_type": "code",
   "execution_count": 45,
   "metadata": {},
   "outputs": [],
   "source": [
    "from lightgbm import LGBMClassifier"
   ]
  },
  {
   "cell_type": "code",
   "execution_count": null,
   "metadata": {},
   "outputs": [],
   "source": [
    "mlflow.lightgbm.autolog()\n",
    "\n",
    "lgbm_clf = LGBMClassifier(n_estimators=100, max_depth=10, random_state=42)\n",
    "\n",
    "with mlflow.start_run(experiment_id='1'):\n",
    "    lgbm_clf.fit(X_train_scale, y_train, eval_set=[(X_train_scale, y_train), (X_test_scale, y_test)], verbose=True)"
   ]
  },
  {
   "cell_type": "code",
   "execution_count": 47,
   "metadata": {},
   "outputs": [
    {
     "name": "stdout",
     "output_type": "stream",
     "text": [
      "Accuracy: 0.6565656565656566\n",
      "Precision: 0.6599178538122431\n",
      "Recall: 0.6565656565656566\n",
      "F1: 0.6418381481215615\n"
     ]
    }
   ],
   "source": [
    "valid_model(lgbm_clf, X_test_scale, y_test)"
   ]
  },
  {
   "cell_type": "code",
   "execution_count": 48,
   "metadata": {},
   "outputs": [
    {
     "name": "stderr",
     "output_type": "stream",
     "text": [
      "/Users/namirinz/opt/anaconda3/envs/geography/lib/python3.10/site-packages/sklearn/utils/deprecation.py:87: FutureWarning: Function plot_confusion_matrix is deprecated; Function `plot_confusion_matrix` is deprecated in 1.0 and will be removed in 1.2. Use one of the class methods: ConfusionMatrixDisplay.from_predictions or ConfusionMatrixDisplay.from_estimator.\n",
      "  warnings.warn(msg, category=FutureWarning)\n"
     ]
    },
    {
     "data": {
      "image/png": "[encoded data removed]",
      "text/plain": [
       "<Figure size 640x480 with 2 Axes>"
      ]
     },
     "metadata": {},
     "output_type": "display_data"
    }
   ],
   "source": [
    "plot_confusion_matrix(lgbm_clf, X_test_scale, y_test);"
   ]
  },
  {
   "cell_type": "code",
   "execution_count": null,
   "metadata": {},
   "outputs": [],
   "source": []
  }
 ],
 "metadata": {
  "kernelspec": {
   "display_name": "Python 3.10.5 ('geography')",
   "language": "python",
   "name": "python3"
  },
  "language_info": {
   "codemirror_mode": {
    "name": "ipython",
    "version": 3
   },
   "file_extension": ".py",
   "mimetype": "text/x-python",
   "name": "python",
   "nbconvert_exporter": "python",
   "pygments_lexer": "ipython3",
   "version": "3.10.5"
  },
  "orig_nbformat": 4,
  "vscode": {
   "interpreter": {
    "hash": "ec47ddaa628f0055259aac9a739c5821fcda65513741406b6aec15104e24ef3e"
   }
  }
 },
 "nbformat": 4,
 "nbformat_minor": 2
}
